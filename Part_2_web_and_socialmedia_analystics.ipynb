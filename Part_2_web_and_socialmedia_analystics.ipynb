{
  "nbformat": 4,
  "nbformat_minor": 0,
  "metadata": {
    "colab": {
      "name": "Part 2: web_and_socialmedia_analystics",
      "provenance": [],
      "collapsed_sections": [],
      "authorship_tag": "ABX9TyPjBF1ERZ+swkZhO8m8E+Zr"
    },
    "kernelspec": {
      "name": "python3",
      "display_name": "Python 3"
    },
    "language_info": {
      "name": "python"
    }
  },
  "cells": [
    {
      "cell_type": "markdown",
      "source": [
        "# **Model Building**"
      ],
      "metadata": {
        "id": "OzIXUel6mnSX"
      }
    },
    {
      "cell_type": "markdown",
      "source": [
        "## **Part 2: Building a sentiment classification engine.**"
      ],
      "metadata": {
        "id": "xpExG2OPLq-a"
      }
    },
    {
      "cell_type": "markdown",
      "source": [
        "### **Text Pre-processing and Model Building and Evaluation**"
      ],
      "metadata": {
        "id": "X7Ly9HidMuxO"
      }
    },
    {
      "cell_type": "code",
      "source": [
        "# Importing libraries\n",
        "import pandas as pd\n",
        "import numpy as np\n",
        "import re\n",
        "from sklearn.feature_extraction.text import TfidfVectorizer\n",
        "from nltk import FreqDist\n",
        "from nltk.stem.porter import PorterStemmer\n",
        "from nltk.tokenize import word_tokenize\n",
        "from nltk.stem import WordNetLemmatizer\n",
        "import seaborn as sns\n",
        "import matplotlib.pyplot as plt\n",
        "sns.set(style=\"whitegrid\")\n",
        "%matplotlib inline\n",
        "\n",
        "# model evaluation\n",
        "from sklearn import metrics\n",
        "from sklearn.metrics import confusion_matrix\n",
        "from sklearn.metrics import precision_score\n",
        "from sklearn.metrics import precision_recall_curve"
      ],
      "metadata": {
        "id": "CSDzOBAxNIrX"
      },
      "execution_count": 8,
      "outputs": []
    },
    {
      "cell_type": "markdown",
      "source": [
        "### **Importing and Pre-processing Data**"
      ],
      "metadata": {
        "id": "Pj0hvrVFNUco"
      }
    },
    {
      "cell_type": "code",
      "source": [
        "# importing drive to upload dataset\n",
        "from google.colab import drive\n",
        "drive.mount('/content/gdrive')"
      ],
      "metadata": {
        "colab": {
          "base_uri": "https://localhost:8080/"
        },
        "id": "Y8l7vdiqOxqx",
        "outputId": "67526276-72c3-4817-d369-dbd8403c895a"
      },
      "execution_count": 9,
      "outputs": [
        {
          "output_type": "stream",
          "name": "stdout",
          "text": [
            "Drive already mounted at /content/gdrive; to attempt to forcibly remount, call drive.mount(\"/content/gdrive\", force_remount=True).\n"
          ]
        }
      ]
    },
    {
      "cell_type": "code",
      "source": [
        "df_merged = pd.read_excel('/content/gdrive/My Drive/Web and Social Media Analytics - NLP Capstone Project/merged_excelfile.xlsx')"
      ],
      "metadata": {
        "id": "FDhIb8DpNcdS"
      },
      "execution_count": 10,
      "outputs": []
    },
    {
      "cell_type": "markdown",
      "source": [
        "##### **Note: As we already created above file in part 1 and saved in gdrive for model building**"
      ],
      "metadata": {
        "id": "4Q-USfABnMfW"
      }
    },
    {
      "cell_type": "code",
      "source": [
        "df_merged.head()"
      ],
      "metadata": {
        "colab": {
          "base_uri": "https://localhost:8080/",
          "height": 820
        },
        "id": "HdmMFHzAN0zU",
        "outputId": "e2c209e1-df7d-409d-911e-e9f2e22841b7"
      },
      "execution_count": 11,
      "outputs": [
        {
          "output_type": "execute_result",
          "data": {
            "text/plain": [
              "   overall  verified      reviewerID        asin    reviewerName  \\\n",
              "0        1         0   A5JLAU2ARJ0BO  B0000E3GWH    Old-and-Wise   \n",
              "1        4         0  A1ACM1CBGORBN1  B0000E3GWH    Sherry Berry   \n",
              "2        3         0  A2V48Q03FZUOSD  B0000E3GWH  Benjamin David   \n",
              "3        5         1  A1V3TRGWOMA8LC  B0000E3GWH   James Beswick   \n",
              "4        3         0  A3NOBH42C7UI5M  B0000E3GWH          Kepela   \n",
              "\n",
              "                                          reviewText  \\\n",
              "0  This phone is ugly and heavy and has a terribl...   \n",
              "1  I had the Samsung V205 and then I decided to t...   \n",
              "2  This is the first Samsung phone I have had and...   \n",
              "3  ..and I'm from Europe, where the phones and ne...   \n",
              "4  This phone is amazingly small and light for a ...   \n",
              "\n",
              "                                           summary  unixReviewTime vote  \\\n",
              "0                                    Bad reception      1095724800    2   \n",
              "1  Pretty good phone.. an improvement from my v205      1090627200   15   \n",
              "2       Not as user friendly as the Motorola V300-      1089072000   11   \n",
              "3                   The best phone I've ever owned      1081728000    4   \n",
              "4   I love the phone but it has some real problems      1077148800   12   \n",
              "\n",
              "  review_sentiment  ...                                              title  \\\n",
              "0         NEGATIVE  ...  Samsung SGH E715 - Titanium blue (T-Mobile) Ce...   \n",
              "1         POSITIVE  ...  Samsung SGH E715 - Titanium blue (T-Mobile) Ce...   \n",
              "2         NEGATIVE  ...  Samsung SGH E715 - Titanium blue (T-Mobile) Ce...   \n",
              "3         POSITIVE  ...  Samsung SGH E715 - Titanium blue (T-Mobile) Ce...   \n",
              "4         POSITIVE  ...  Samsung SGH E715 - Titanium blue (T-Mobile) Ce...   \n",
              "\n",
              "  also_buy    brand feature details       price category_new   new_rank  \\\n",
              "0       []  Samsung      []      {}  117.247465  Cell Phones  3059436.0   \n",
              "1       []  Samsung      []      {}  117.247465  Cell Phones  3059436.0   \n",
              "2       []  Samsung      []      {}  117.247465  Cell Phones  3059436.0   \n",
              "3       []  Samsung      []      {}  117.247465  Cell Phones  3059436.0   \n",
              "4       []  Samsung      []      {}  117.247465  Cell Phones  3059436.0   \n",
              "\n",
              "  also_view_new  also_view_brand  \n",
              "0          ['']               []  \n",
              "1          ['']               []  \n",
              "2          ['']               []  \n",
              "3          ['']               []  \n",
              "4          ['']               []  \n",
              "\n",
              "[5 rows x 22 columns]"
            ],
            "text/html": [
              "\n",
              "  <div id=\"df-014dec8d-9be5-43e3-80b2-2e0d9e9410b3\">\n",
              "    <div class=\"colab-df-container\">\n",
              "      <div>\n",
              "<style scoped>\n",
              "    .dataframe tbody tr th:only-of-type {\n",
              "        vertical-align: middle;\n",
              "    }\n",
              "\n",
              "    .dataframe tbody tr th {\n",
              "        vertical-align: top;\n",
              "    }\n",
              "\n",
              "    .dataframe thead th {\n",
              "        text-align: right;\n",
              "    }\n",
              "</style>\n",
              "<table border=\"1\" class=\"dataframe\">\n",
              "  <thead>\n",
              "    <tr style=\"text-align: right;\">\n",
              "      <th></th>\n",
              "      <th>overall</th>\n",
              "      <th>verified</th>\n",
              "      <th>reviewerID</th>\n",
              "      <th>asin</th>\n",
              "      <th>reviewerName</th>\n",
              "      <th>reviewText</th>\n",
              "      <th>summary</th>\n",
              "      <th>unixReviewTime</th>\n",
              "      <th>vote</th>\n",
              "      <th>review_sentiment</th>\n",
              "      <th>...</th>\n",
              "      <th>title</th>\n",
              "      <th>also_buy</th>\n",
              "      <th>brand</th>\n",
              "      <th>feature</th>\n",
              "      <th>details</th>\n",
              "      <th>price</th>\n",
              "      <th>category_new</th>\n",
              "      <th>new_rank</th>\n",
              "      <th>also_view_new</th>\n",
              "      <th>also_view_brand</th>\n",
              "    </tr>\n",
              "  </thead>\n",
              "  <tbody>\n",
              "    <tr>\n",
              "      <th>0</th>\n",
              "      <td>1</td>\n",
              "      <td>0</td>\n",
              "      <td>A5JLAU2ARJ0BO</td>\n",
              "      <td>B0000E3GWH</td>\n",
              "      <td>Old-and-Wise</td>\n",
              "      <td>This phone is ugly and heavy and has a terribl...</td>\n",
              "      <td>Bad reception</td>\n",
              "      <td>1095724800</td>\n",
              "      <td>2</td>\n",
              "      <td>NEGATIVE</td>\n",
              "      <td>...</td>\n",
              "      <td>Samsung SGH E715 - Titanium blue (T-Mobile) Ce...</td>\n",
              "      <td>[]</td>\n",
              "      <td>Samsung</td>\n",
              "      <td>[]</td>\n",
              "      <td>{}</td>\n",
              "      <td>117.247465</td>\n",
              "      <td>Cell Phones</td>\n",
              "      <td>3059436.0</td>\n",
              "      <td>['']</td>\n",
              "      <td>[]</td>\n",
              "    </tr>\n",
              "    <tr>\n",
              "      <th>1</th>\n",
              "      <td>4</td>\n",
              "      <td>0</td>\n",
              "      <td>A1ACM1CBGORBN1</td>\n",
              "      <td>B0000E3GWH</td>\n",
              "      <td>Sherry Berry</td>\n",
              "      <td>I had the Samsung V205 and then I decided to t...</td>\n",
              "      <td>Pretty good phone.. an improvement from my v205</td>\n",
              "      <td>1090627200</td>\n",
              "      <td>15</td>\n",
              "      <td>POSITIVE</td>\n",
              "      <td>...</td>\n",
              "      <td>Samsung SGH E715 - Titanium blue (T-Mobile) Ce...</td>\n",
              "      <td>[]</td>\n",
              "      <td>Samsung</td>\n",
              "      <td>[]</td>\n",
              "      <td>{}</td>\n",
              "      <td>117.247465</td>\n",
              "      <td>Cell Phones</td>\n",
              "      <td>3059436.0</td>\n",
              "      <td>['']</td>\n",
              "      <td>[]</td>\n",
              "    </tr>\n",
              "    <tr>\n",
              "      <th>2</th>\n",
              "      <td>3</td>\n",
              "      <td>0</td>\n",
              "      <td>A2V48Q03FZUOSD</td>\n",
              "      <td>B0000E3GWH</td>\n",
              "      <td>Benjamin David</td>\n",
              "      <td>This is the first Samsung phone I have had and...</td>\n",
              "      <td>Not as user friendly as the Motorola V300-</td>\n",
              "      <td>1089072000</td>\n",
              "      <td>11</td>\n",
              "      <td>NEGATIVE</td>\n",
              "      <td>...</td>\n",
              "      <td>Samsung SGH E715 - Titanium blue (T-Mobile) Ce...</td>\n",
              "      <td>[]</td>\n",
              "      <td>Samsung</td>\n",
              "      <td>[]</td>\n",
              "      <td>{}</td>\n",
              "      <td>117.247465</td>\n",
              "      <td>Cell Phones</td>\n",
              "      <td>3059436.0</td>\n",
              "      <td>['']</td>\n",
              "      <td>[]</td>\n",
              "    </tr>\n",
              "    <tr>\n",
              "      <th>3</th>\n",
              "      <td>5</td>\n",
              "      <td>1</td>\n",
              "      <td>A1V3TRGWOMA8LC</td>\n",
              "      <td>B0000E3GWH</td>\n",
              "      <td>James Beswick</td>\n",
              "      <td>..and I'm from Europe, where the phones and ne...</td>\n",
              "      <td>The best phone I've ever owned</td>\n",
              "      <td>1081728000</td>\n",
              "      <td>4</td>\n",
              "      <td>POSITIVE</td>\n",
              "      <td>...</td>\n",
              "      <td>Samsung SGH E715 - Titanium blue (T-Mobile) Ce...</td>\n",
              "      <td>[]</td>\n",
              "      <td>Samsung</td>\n",
              "      <td>[]</td>\n",
              "      <td>{}</td>\n",
              "      <td>117.247465</td>\n",
              "      <td>Cell Phones</td>\n",
              "      <td>3059436.0</td>\n",
              "      <td>['']</td>\n",
              "      <td>[]</td>\n",
              "    </tr>\n",
              "    <tr>\n",
              "      <th>4</th>\n",
              "      <td>3</td>\n",
              "      <td>0</td>\n",
              "      <td>A3NOBH42C7UI5M</td>\n",
              "      <td>B0000E3GWH</td>\n",
              "      <td>Kepela</td>\n",
              "      <td>This phone is amazingly small and light for a ...</td>\n",
              "      <td>I love the phone but it has some real problems</td>\n",
              "      <td>1077148800</td>\n",
              "      <td>12</td>\n",
              "      <td>POSITIVE</td>\n",
              "      <td>...</td>\n",
              "      <td>Samsung SGH E715 - Titanium blue (T-Mobile) Ce...</td>\n",
              "      <td>[]</td>\n",
              "      <td>Samsung</td>\n",
              "      <td>[]</td>\n",
              "      <td>{}</td>\n",
              "      <td>117.247465</td>\n",
              "      <td>Cell Phones</td>\n",
              "      <td>3059436.0</td>\n",
              "      <td>['']</td>\n",
              "      <td>[]</td>\n",
              "    </tr>\n",
              "  </tbody>\n",
              "</table>\n",
              "<p>5 rows × 22 columns</p>\n",
              "</div>\n",
              "      <button class=\"colab-df-convert\" onclick=\"convertToInteractive('df-014dec8d-9be5-43e3-80b2-2e0d9e9410b3')\"\n",
              "              title=\"Convert this dataframe to an interactive table.\"\n",
              "              style=\"display:none;\">\n",
              "        \n",
              "  <svg xmlns=\"http://www.w3.org/2000/svg\" height=\"24px\"viewBox=\"0 0 24 24\"\n",
              "       width=\"24px\">\n",
              "    <path d=\"M0 0h24v24H0V0z\" fill=\"none\"/>\n",
              "    <path d=\"M18.56 5.44l.94 2.06.94-2.06 2.06-.94-2.06-.94-.94-2.06-.94 2.06-2.06.94zm-11 1L8.5 8.5l.94-2.06 2.06-.94-2.06-.94L8.5 2.5l-.94 2.06-2.06.94zm10 10l.94 2.06.94-2.06 2.06-.94-2.06-.94-.94-2.06-.94 2.06-2.06.94z\"/><path d=\"M17.41 7.96l-1.37-1.37c-.4-.4-.92-.59-1.43-.59-.52 0-1.04.2-1.43.59L10.3 9.45l-7.72 7.72c-.78.78-.78 2.05 0 2.83L4 21.41c.39.39.9.59 1.41.59.51 0 1.02-.2 1.41-.59l7.78-7.78 2.81-2.81c.8-.78.8-2.07 0-2.86zM5.41 20L4 18.59l7.72-7.72 1.47 1.35L5.41 20z\"/>\n",
              "  </svg>\n",
              "      </button>\n",
              "      \n",
              "  <style>\n",
              "    .colab-df-container {\n",
              "      display:flex;\n",
              "      flex-wrap:wrap;\n",
              "      gap: 12px;\n",
              "    }\n",
              "\n",
              "    .colab-df-convert {\n",
              "      background-color: #E8F0FE;\n",
              "      border: none;\n",
              "      border-radius: 50%;\n",
              "      cursor: pointer;\n",
              "      display: none;\n",
              "      fill: #1967D2;\n",
              "      height: 32px;\n",
              "      padding: 0 0 0 0;\n",
              "      width: 32px;\n",
              "    }\n",
              "\n",
              "    .colab-df-convert:hover {\n",
              "      background-color: #E2EBFA;\n",
              "      box-shadow: 0px 1px 2px rgba(60, 64, 67, 0.3), 0px 1px 3px 1px rgba(60, 64, 67, 0.15);\n",
              "      fill: #174EA6;\n",
              "    }\n",
              "\n",
              "    [theme=dark] .colab-df-convert {\n",
              "      background-color: #3B4455;\n",
              "      fill: #D2E3FC;\n",
              "    }\n",
              "\n",
              "    [theme=dark] .colab-df-convert:hover {\n",
              "      background-color: #434B5C;\n",
              "      box-shadow: 0px 1px 3px 1px rgba(0, 0, 0, 0.15);\n",
              "      filter: drop-shadow(0px 1px 2px rgba(0, 0, 0, 0.3));\n",
              "      fill: #FFFFFF;\n",
              "    }\n",
              "  </style>\n",
              "\n",
              "      <script>\n",
              "        const buttonEl =\n",
              "          document.querySelector('#df-014dec8d-9be5-43e3-80b2-2e0d9e9410b3 button.colab-df-convert');\n",
              "        buttonEl.style.display =\n",
              "          google.colab.kernel.accessAllowed ? 'block' : 'none';\n",
              "\n",
              "        async function convertToInteractive(key) {\n",
              "          const element = document.querySelector('#df-014dec8d-9be5-43e3-80b2-2e0d9e9410b3');\n",
              "          const dataTable =\n",
              "            await google.colab.kernel.invokeFunction('convertToInteractive',\n",
              "                                                     [key], {});\n",
              "          if (!dataTable) return;\n",
              "\n",
              "          const docLinkHtml = 'Like what you see? Visit the ' +\n",
              "            '<a target=\"_blank\" href=https://colab.research.google.com/notebooks/data_table.ipynb>data table notebook</a>'\n",
              "            + ' to learn more about interactive tables.';\n",
              "          element.innerHTML = '';\n",
              "          dataTable['output_type'] = 'display_data';\n",
              "          await google.colab.output.renderOutput(dataTable, element);\n",
              "          const docLink = document.createElement('div');\n",
              "          docLink.innerHTML = docLinkHtml;\n",
              "          element.appendChild(docLink);\n",
              "        }\n",
              "      </script>\n",
              "    </div>\n",
              "  </div>\n",
              "  "
            ]
          },
          "metadata": {},
          "execution_count": 11
        }
      ]
    },
    {
      "cell_type": "code",
      "source": [
        "df_merged.info()"
      ],
      "metadata": {
        "colab": {
          "base_uri": "https://localhost:8080/"
        },
        "id": "PeH-bmuvPEIP",
        "outputId": "16787d21-be20-469a-bd27-3467d7b242a7"
      },
      "execution_count": 12,
      "outputs": [
        {
          "output_type": "stream",
          "name": "stdout",
          "text": [
            "<class 'pandas.core.frame.DataFrame'>\n",
            "RangeIndex: 63838 entries, 0 to 63837\n",
            "Data columns (total 22 columns):\n",
            " #   Column            Non-Null Count  Dtype  \n",
            "---  ------            --------------  -----  \n",
            " 0   overall           63838 non-null  int64  \n",
            " 1   verified          63838 non-null  int64  \n",
            " 2   reviewerID        63838 non-null  object \n",
            " 3   asin              63838 non-null  object \n",
            " 4   reviewerName      63827 non-null  object \n",
            " 5   reviewText        63837 non-null  object \n",
            " 6   summary           63820 non-null  object \n",
            " 7   unixReviewTime    63838 non-null  int64  \n",
            " 8   vote              63838 non-null  object \n",
            " 9   review_sentiment  63838 non-null  object \n",
            " 10  Date&Time         63838 non-null  object \n",
            " 11  description       63838 non-null  object \n",
            " 12  title             63838 non-null  object \n",
            " 13  also_buy          63838 non-null  object \n",
            " 14  brand             63772 non-null  object \n",
            " 15  feature           63838 non-null  object \n",
            " 16  details           63838 non-null  object \n",
            " 17  price             61553 non-null  float64\n",
            " 18  category_new      63838 non-null  object \n",
            " 19  new_rank          61538 non-null  float64\n",
            " 20  also_view_new     63838 non-null  object \n",
            " 21  also_view_brand   63838 non-null  object \n",
            "dtypes: float64(2), int64(3), object(17)\n",
            "memory usage: 10.7+ MB\n"
          ]
        }
      ]
    },
    {
      "cell_type": "code",
      "source": [
        "# counting positive and negative instances\n",
        "pos_neg = df_merged.review_sentiment.value_counts()\n",
        "pos_neg"
      ],
      "metadata": {
        "colab": {
          "base_uri": "https://localhost:8080/"
        },
        "id": "Z70HE9nGPRGg",
        "outputId": "44a09b67-d5eb-4e28-9716-c76a6121f84e"
      },
      "execution_count": 13,
      "outputs": [
        {
          "output_type": "execute_result",
          "data": {
            "text/plain": [
              "POSITIVE    47677\n",
              "NEGATIVE    16161\n",
              "Name: review_sentiment, dtype: int64"
            ]
          },
          "metadata": {},
          "execution_count": 13
        }
      ]
    },
    {
      "cell_type": "code",
      "source": [
        "print(\"positive rate is about {0}%\".format(round((pos_neg[0]/float(pos_neg[0]+pos_neg[1]))*100), 2))"
      ],
      "metadata": {
        "colab": {
          "base_uri": "https://localhost:8080/"
        },
        "id": "J1fxiGnfPWWs",
        "outputId": "bbbcc76e-3c3a-4086-f25d-151371f109c2"
      },
      "execution_count": 14,
      "outputs": [
        {
          "output_type": "stream",
          "name": "stdout",
          "text": [
            "positive rate is about 75%\n"
          ]
        }
      ]
    },
    {
      "cell_type": "code",
      "source": [
        "print(\"negative rate is about {0}%\".format(round((pos_neg[1]/float(pos_neg[0]+pos_neg[1]))*100), 2))"
      ],
      "metadata": {
        "colab": {
          "base_uri": "https://localhost:8080/"
        },
        "id": "jM3LD8VCPZHN",
        "outputId": "e66a78d2-f9a2-4ce4-b187-9b25cf3b8f65"
      },
      "execution_count": 15,
      "outputs": [
        {
          "output_type": "stream",
          "name": "stdout",
          "text": [
            "negative rate is about 25%\n"
          ]
        }
      ]
    },
    {
      "cell_type": "code",
      "source": [
        "# mapping labels to 0 and 1\n",
        "df_merged['review_sentiment'] = df_merged.review_sentiment.map({'POSITIVE':1, 'NEGATIVE':0})"
      ],
      "metadata": {
        "id": "GigglR0TPbR9"
      },
      "execution_count": 16,
      "outputs": []
    },
    {
      "cell_type": "code",
      "source": [
        "df_merged.head()"
      ],
      "metadata": {
        "colab": {
          "base_uri": "https://localhost:8080/",
          "height": 820
        },
        "id": "IgjizOnpPfdO",
        "outputId": "f1534f21-fd43-4b68-fb7c-551f1cca4f6c"
      },
      "execution_count": 17,
      "outputs": [
        {
          "output_type": "execute_result",
          "data": {
            "text/plain": [
              "   overall  verified      reviewerID        asin    reviewerName  \\\n",
              "0        1         0   A5JLAU2ARJ0BO  B0000E3GWH    Old-and-Wise   \n",
              "1        4         0  A1ACM1CBGORBN1  B0000E3GWH    Sherry Berry   \n",
              "2        3         0  A2V48Q03FZUOSD  B0000E3GWH  Benjamin David   \n",
              "3        5         1  A1V3TRGWOMA8LC  B0000E3GWH   James Beswick   \n",
              "4        3         0  A3NOBH42C7UI5M  B0000E3GWH          Kepela   \n",
              "\n",
              "                                          reviewText  \\\n",
              "0  This phone is ugly and heavy and has a terribl...   \n",
              "1  I had the Samsung V205 and then I decided to t...   \n",
              "2  This is the first Samsung phone I have had and...   \n",
              "3  ..and I'm from Europe, where the phones and ne...   \n",
              "4  This phone is amazingly small and light for a ...   \n",
              "\n",
              "                                           summary  unixReviewTime vote  \\\n",
              "0                                    Bad reception      1095724800    2   \n",
              "1  Pretty good phone.. an improvement from my v205      1090627200   15   \n",
              "2       Not as user friendly as the Motorola V300-      1089072000   11   \n",
              "3                   The best phone I've ever owned      1081728000    4   \n",
              "4   I love the phone but it has some real problems      1077148800   12   \n",
              "\n",
              "   review_sentiment  ...                                              title  \\\n",
              "0                 0  ...  Samsung SGH E715 - Titanium blue (T-Mobile) Ce...   \n",
              "1                 1  ...  Samsung SGH E715 - Titanium blue (T-Mobile) Ce...   \n",
              "2                 0  ...  Samsung SGH E715 - Titanium blue (T-Mobile) Ce...   \n",
              "3                 1  ...  Samsung SGH E715 - Titanium blue (T-Mobile) Ce...   \n",
              "4                 1  ...  Samsung SGH E715 - Titanium blue (T-Mobile) Ce...   \n",
              "\n",
              "  also_buy    brand feature details       price category_new   new_rank  \\\n",
              "0       []  Samsung      []      {}  117.247465  Cell Phones  3059436.0   \n",
              "1       []  Samsung      []      {}  117.247465  Cell Phones  3059436.0   \n",
              "2       []  Samsung      []      {}  117.247465  Cell Phones  3059436.0   \n",
              "3       []  Samsung      []      {}  117.247465  Cell Phones  3059436.0   \n",
              "4       []  Samsung      []      {}  117.247465  Cell Phones  3059436.0   \n",
              "\n",
              "  also_view_new  also_view_brand  \n",
              "0          ['']               []  \n",
              "1          ['']               []  \n",
              "2          ['']               []  \n",
              "3          ['']               []  \n",
              "4          ['']               []  \n",
              "\n",
              "[5 rows x 22 columns]"
            ],
            "text/html": [
              "\n",
              "  <div id=\"df-fc81d5e8-6bf2-432e-a1a0-46e0259250fd\">\n",
              "    <div class=\"colab-df-container\">\n",
              "      <div>\n",
              "<style scoped>\n",
              "    .dataframe tbody tr th:only-of-type {\n",
              "        vertical-align: middle;\n",
              "    }\n",
              "\n",
              "    .dataframe tbody tr th {\n",
              "        vertical-align: top;\n",
              "    }\n",
              "\n",
              "    .dataframe thead th {\n",
              "        text-align: right;\n",
              "    }\n",
              "</style>\n",
              "<table border=\"1\" class=\"dataframe\">\n",
              "  <thead>\n",
              "    <tr style=\"text-align: right;\">\n",
              "      <th></th>\n",
              "      <th>overall</th>\n",
              "      <th>verified</th>\n",
              "      <th>reviewerID</th>\n",
              "      <th>asin</th>\n",
              "      <th>reviewerName</th>\n",
              "      <th>reviewText</th>\n",
              "      <th>summary</th>\n",
              "      <th>unixReviewTime</th>\n",
              "      <th>vote</th>\n",
              "      <th>review_sentiment</th>\n",
              "      <th>...</th>\n",
              "      <th>title</th>\n",
              "      <th>also_buy</th>\n",
              "      <th>brand</th>\n",
              "      <th>feature</th>\n",
              "      <th>details</th>\n",
              "      <th>price</th>\n",
              "      <th>category_new</th>\n",
              "      <th>new_rank</th>\n",
              "      <th>also_view_new</th>\n",
              "      <th>also_view_brand</th>\n",
              "    </tr>\n",
              "  </thead>\n",
              "  <tbody>\n",
              "    <tr>\n",
              "      <th>0</th>\n",
              "      <td>1</td>\n",
              "      <td>0</td>\n",
              "      <td>A5JLAU2ARJ0BO</td>\n",
              "      <td>B0000E3GWH</td>\n",
              "      <td>Old-and-Wise</td>\n",
              "      <td>This phone is ugly and heavy and has a terribl...</td>\n",
              "      <td>Bad reception</td>\n",
              "      <td>1095724800</td>\n",
              "      <td>2</td>\n",
              "      <td>0</td>\n",
              "      <td>...</td>\n",
              "      <td>Samsung SGH E715 - Titanium blue (T-Mobile) Ce...</td>\n",
              "      <td>[]</td>\n",
              "      <td>Samsung</td>\n",
              "      <td>[]</td>\n",
              "      <td>{}</td>\n",
              "      <td>117.247465</td>\n",
              "      <td>Cell Phones</td>\n",
              "      <td>3059436.0</td>\n",
              "      <td>['']</td>\n",
              "      <td>[]</td>\n",
              "    </tr>\n",
              "    <tr>\n",
              "      <th>1</th>\n",
              "      <td>4</td>\n",
              "      <td>0</td>\n",
              "      <td>A1ACM1CBGORBN1</td>\n",
              "      <td>B0000E3GWH</td>\n",
              "      <td>Sherry Berry</td>\n",
              "      <td>I had the Samsung V205 and then I decided to t...</td>\n",
              "      <td>Pretty good phone.. an improvement from my v205</td>\n",
              "      <td>1090627200</td>\n",
              "      <td>15</td>\n",
              "      <td>1</td>\n",
              "      <td>...</td>\n",
              "      <td>Samsung SGH E715 - Titanium blue (T-Mobile) Ce...</td>\n",
              "      <td>[]</td>\n",
              "      <td>Samsung</td>\n",
              "      <td>[]</td>\n",
              "      <td>{}</td>\n",
              "      <td>117.247465</td>\n",
              "      <td>Cell Phones</td>\n",
              "      <td>3059436.0</td>\n",
              "      <td>['']</td>\n",
              "      <td>[]</td>\n",
              "    </tr>\n",
              "    <tr>\n",
              "      <th>2</th>\n",
              "      <td>3</td>\n",
              "      <td>0</td>\n",
              "      <td>A2V48Q03FZUOSD</td>\n",
              "      <td>B0000E3GWH</td>\n",
              "      <td>Benjamin David</td>\n",
              "      <td>This is the first Samsung phone I have had and...</td>\n",
              "      <td>Not as user friendly as the Motorola V300-</td>\n",
              "      <td>1089072000</td>\n",
              "      <td>11</td>\n",
              "      <td>0</td>\n",
              "      <td>...</td>\n",
              "      <td>Samsung SGH E715 - Titanium blue (T-Mobile) Ce...</td>\n",
              "      <td>[]</td>\n",
              "      <td>Samsung</td>\n",
              "      <td>[]</td>\n",
              "      <td>{}</td>\n",
              "      <td>117.247465</td>\n",
              "      <td>Cell Phones</td>\n",
              "      <td>3059436.0</td>\n",
              "      <td>['']</td>\n",
              "      <td>[]</td>\n",
              "    </tr>\n",
              "    <tr>\n",
              "      <th>3</th>\n",
              "      <td>5</td>\n",
              "      <td>1</td>\n",
              "      <td>A1V3TRGWOMA8LC</td>\n",
              "      <td>B0000E3GWH</td>\n",
              "      <td>James Beswick</td>\n",
              "      <td>..and I'm from Europe, where the phones and ne...</td>\n",
              "      <td>The best phone I've ever owned</td>\n",
              "      <td>1081728000</td>\n",
              "      <td>4</td>\n",
              "      <td>1</td>\n",
              "      <td>...</td>\n",
              "      <td>Samsung SGH E715 - Titanium blue (T-Mobile) Ce...</td>\n",
              "      <td>[]</td>\n",
              "      <td>Samsung</td>\n",
              "      <td>[]</td>\n",
              "      <td>{}</td>\n",
              "      <td>117.247465</td>\n",
              "      <td>Cell Phones</td>\n",
              "      <td>3059436.0</td>\n",
              "      <td>['']</td>\n",
              "      <td>[]</td>\n",
              "    </tr>\n",
              "    <tr>\n",
              "      <th>4</th>\n",
              "      <td>3</td>\n",
              "      <td>0</td>\n",
              "      <td>A3NOBH42C7UI5M</td>\n",
              "      <td>B0000E3GWH</td>\n",
              "      <td>Kepela</td>\n",
              "      <td>This phone is amazingly small and light for a ...</td>\n",
              "      <td>I love the phone but it has some real problems</td>\n",
              "      <td>1077148800</td>\n",
              "      <td>12</td>\n",
              "      <td>1</td>\n",
              "      <td>...</td>\n",
              "      <td>Samsung SGH E715 - Titanium blue (T-Mobile) Ce...</td>\n",
              "      <td>[]</td>\n",
              "      <td>Samsung</td>\n",
              "      <td>[]</td>\n",
              "      <td>{}</td>\n",
              "      <td>117.247465</td>\n",
              "      <td>Cell Phones</td>\n",
              "      <td>3059436.0</td>\n",
              "      <td>['']</td>\n",
              "      <td>[]</td>\n",
              "    </tr>\n",
              "  </tbody>\n",
              "</table>\n",
              "<p>5 rows × 22 columns</p>\n",
              "</div>\n",
              "      <button class=\"colab-df-convert\" onclick=\"convertToInteractive('df-fc81d5e8-6bf2-432e-a1a0-46e0259250fd')\"\n",
              "              title=\"Convert this dataframe to an interactive table.\"\n",
              "              style=\"display:none;\">\n",
              "        \n",
              "  <svg xmlns=\"http://www.w3.org/2000/svg\" height=\"24px\"viewBox=\"0 0 24 24\"\n",
              "       width=\"24px\">\n",
              "    <path d=\"M0 0h24v24H0V0z\" fill=\"none\"/>\n",
              "    <path d=\"M18.56 5.44l.94 2.06.94-2.06 2.06-.94-2.06-.94-.94-2.06-.94 2.06-2.06.94zm-11 1L8.5 8.5l.94-2.06 2.06-.94-2.06-.94L8.5 2.5l-.94 2.06-2.06.94zm10 10l.94 2.06.94-2.06 2.06-.94-2.06-.94-.94-2.06-.94 2.06-2.06.94z\"/><path d=\"M17.41 7.96l-1.37-1.37c-.4-.4-.92-.59-1.43-.59-.52 0-1.04.2-1.43.59L10.3 9.45l-7.72 7.72c-.78.78-.78 2.05 0 2.83L4 21.41c.39.39.9.59 1.41.59.51 0 1.02-.2 1.41-.59l7.78-7.78 2.81-2.81c.8-.78.8-2.07 0-2.86zM5.41 20L4 18.59l7.72-7.72 1.47 1.35L5.41 20z\"/>\n",
              "  </svg>\n",
              "      </button>\n",
              "      \n",
              "  <style>\n",
              "    .colab-df-container {\n",
              "      display:flex;\n",
              "      flex-wrap:wrap;\n",
              "      gap: 12px;\n",
              "    }\n",
              "\n",
              "    .colab-df-convert {\n",
              "      background-color: #E8F0FE;\n",
              "      border: none;\n",
              "      border-radius: 50%;\n",
              "      cursor: pointer;\n",
              "      display: none;\n",
              "      fill: #1967D2;\n",
              "      height: 32px;\n",
              "      padding: 0 0 0 0;\n",
              "      width: 32px;\n",
              "    }\n",
              "\n",
              "    .colab-df-convert:hover {\n",
              "      background-color: #E2EBFA;\n",
              "      box-shadow: 0px 1px 2px rgba(60, 64, 67, 0.3), 0px 1px 3px 1px rgba(60, 64, 67, 0.15);\n",
              "      fill: #174EA6;\n",
              "    }\n",
              "\n",
              "    [theme=dark] .colab-df-convert {\n",
              "      background-color: #3B4455;\n",
              "      fill: #D2E3FC;\n",
              "    }\n",
              "\n",
              "    [theme=dark] .colab-df-convert:hover {\n",
              "      background-color: #434B5C;\n",
              "      box-shadow: 0px 1px 3px 1px rgba(0, 0, 0, 0.15);\n",
              "      filter: drop-shadow(0px 1px 2px rgba(0, 0, 0, 0.3));\n",
              "      fill: #FFFFFF;\n",
              "    }\n",
              "  </style>\n",
              "\n",
              "      <script>\n",
              "        const buttonEl =\n",
              "          document.querySelector('#df-fc81d5e8-6bf2-432e-a1a0-46e0259250fd button.colab-df-convert');\n",
              "        buttonEl.style.display =\n",
              "          google.colab.kernel.accessAllowed ? 'block' : 'none';\n",
              "\n",
              "        async function convertToInteractive(key) {\n",
              "          const element = document.querySelector('#df-fc81d5e8-6bf2-432e-a1a0-46e0259250fd');\n",
              "          const dataTable =\n",
              "            await google.colab.kernel.invokeFunction('convertToInteractive',\n",
              "                                                     [key], {});\n",
              "          if (!dataTable) return;\n",
              "\n",
              "          const docLinkHtml = 'Like what you see? Visit the ' +\n",
              "            '<a target=\"_blank\" href=https://colab.research.google.com/notebooks/data_table.ipynb>data table notebook</a>'\n",
              "            + ' to learn more about interactive tables.';\n",
              "          element.innerHTML = '';\n",
              "          dataTable['output_type'] = 'display_data';\n",
              "          await google.colab.output.renderOutput(dataTable, element);\n",
              "          const docLink = document.createElement('div');\n",
              "          docLink.innerHTML = docLinkHtml;\n",
              "          element.appendChild(docLink);\n",
              "        }\n",
              "      </script>\n",
              "    </div>\n",
              "  </div>\n",
              "  "
            ]
          },
          "metadata": {},
          "execution_count": 17
        }
      ]
    },
    {
      "cell_type": "code",
      "source": [
        "df_reviews = df_merged[[\"reviewText\",\"review_sentiment\"]]"
      ],
      "metadata": {
        "id": "Vpq1b9CYPhY4"
      },
      "execution_count": 18,
      "outputs": []
    },
    {
      "cell_type": "code",
      "source": [
        "df_reviews.head()"
      ],
      "metadata": {
        "colab": {
          "base_uri": "https://localhost:8080/",
          "height": 206
        },
        "id": "z5eBXN-WPjxm",
        "outputId": "8202255f-0f42-4959-c07c-fbab9c8892e0"
      },
      "execution_count": 19,
      "outputs": [
        {
          "output_type": "execute_result",
          "data": {
            "text/plain": [
              "                                          reviewText  review_sentiment\n",
              "0  This phone is ugly and heavy and has a terribl...                 0\n",
              "1  I had the Samsung V205 and then I decided to t...                 1\n",
              "2  This is the first Samsung phone I have had and...                 0\n",
              "3  ..and I'm from Europe, where the phones and ne...                 1\n",
              "4  This phone is amazingly small and light for a ...                 1"
            ],
            "text/html": [
              "\n",
              "  <div id=\"df-27d8e2b6-cd0e-4531-b761-ea4fd631b248\">\n",
              "    <div class=\"colab-df-container\">\n",
              "      <div>\n",
              "<style scoped>\n",
              "    .dataframe tbody tr th:only-of-type {\n",
              "        vertical-align: middle;\n",
              "    }\n",
              "\n",
              "    .dataframe tbody tr th {\n",
              "        vertical-align: top;\n",
              "    }\n",
              "\n",
              "    .dataframe thead th {\n",
              "        text-align: right;\n",
              "    }\n",
              "</style>\n",
              "<table border=\"1\" class=\"dataframe\">\n",
              "  <thead>\n",
              "    <tr style=\"text-align: right;\">\n",
              "      <th></th>\n",
              "      <th>reviewText</th>\n",
              "      <th>review_sentiment</th>\n",
              "    </tr>\n",
              "  </thead>\n",
              "  <tbody>\n",
              "    <tr>\n",
              "      <th>0</th>\n",
              "      <td>This phone is ugly and heavy and has a terribl...</td>\n",
              "      <td>0</td>\n",
              "    </tr>\n",
              "    <tr>\n",
              "      <th>1</th>\n",
              "      <td>I had the Samsung V205 and then I decided to t...</td>\n",
              "      <td>1</td>\n",
              "    </tr>\n",
              "    <tr>\n",
              "      <th>2</th>\n",
              "      <td>This is the first Samsung phone I have had and...</td>\n",
              "      <td>0</td>\n",
              "    </tr>\n",
              "    <tr>\n",
              "      <th>3</th>\n",
              "      <td>..and I'm from Europe, where the phones and ne...</td>\n",
              "      <td>1</td>\n",
              "    </tr>\n",
              "    <tr>\n",
              "      <th>4</th>\n",
              "      <td>This phone is amazingly small and light for a ...</td>\n",
              "      <td>1</td>\n",
              "    </tr>\n",
              "  </tbody>\n",
              "</table>\n",
              "</div>\n",
              "      <button class=\"colab-df-convert\" onclick=\"convertToInteractive('df-27d8e2b6-cd0e-4531-b761-ea4fd631b248')\"\n",
              "              title=\"Convert this dataframe to an interactive table.\"\n",
              "              style=\"display:none;\">\n",
              "        \n",
              "  <svg xmlns=\"http://www.w3.org/2000/svg\" height=\"24px\"viewBox=\"0 0 24 24\"\n",
              "       width=\"24px\">\n",
              "    <path d=\"M0 0h24v24H0V0z\" fill=\"none\"/>\n",
              "    <path d=\"M18.56 5.44l.94 2.06.94-2.06 2.06-.94-2.06-.94-.94-2.06-.94 2.06-2.06.94zm-11 1L8.5 8.5l.94-2.06 2.06-.94-2.06-.94L8.5 2.5l-.94 2.06-2.06.94zm10 10l.94 2.06.94-2.06 2.06-.94-2.06-.94-.94-2.06-.94 2.06-2.06.94z\"/><path d=\"M17.41 7.96l-1.37-1.37c-.4-.4-.92-.59-1.43-.59-.52 0-1.04.2-1.43.59L10.3 9.45l-7.72 7.72c-.78.78-.78 2.05 0 2.83L4 21.41c.39.39.9.59 1.41.59.51 0 1.02-.2 1.41-.59l7.78-7.78 2.81-2.81c.8-.78.8-2.07 0-2.86zM5.41 20L4 18.59l7.72-7.72 1.47 1.35L5.41 20z\"/>\n",
              "  </svg>\n",
              "      </button>\n",
              "      \n",
              "  <style>\n",
              "    .colab-df-container {\n",
              "      display:flex;\n",
              "      flex-wrap:wrap;\n",
              "      gap: 12px;\n",
              "    }\n",
              "\n",
              "    .colab-df-convert {\n",
              "      background-color: #E8F0FE;\n",
              "      border: none;\n",
              "      border-radius: 50%;\n",
              "      cursor: pointer;\n",
              "      display: none;\n",
              "      fill: #1967D2;\n",
              "      height: 32px;\n",
              "      padding: 0 0 0 0;\n",
              "      width: 32px;\n",
              "    }\n",
              "\n",
              "    .colab-df-convert:hover {\n",
              "      background-color: #E2EBFA;\n",
              "      box-shadow: 0px 1px 2px rgba(60, 64, 67, 0.3), 0px 1px 3px 1px rgba(60, 64, 67, 0.15);\n",
              "      fill: #174EA6;\n",
              "    }\n",
              "\n",
              "    [theme=dark] .colab-df-convert {\n",
              "      background-color: #3B4455;\n",
              "      fill: #D2E3FC;\n",
              "    }\n",
              "\n",
              "    [theme=dark] .colab-df-convert:hover {\n",
              "      background-color: #434B5C;\n",
              "      box-shadow: 0px 1px 3px 1px rgba(0, 0, 0, 0.15);\n",
              "      filter: drop-shadow(0px 1px 2px rgba(0, 0, 0, 0.3));\n",
              "      fill: #FFFFFF;\n",
              "    }\n",
              "  </style>\n",
              "\n",
              "      <script>\n",
              "        const buttonEl =\n",
              "          document.querySelector('#df-27d8e2b6-cd0e-4531-b761-ea4fd631b248 button.colab-df-convert');\n",
              "        buttonEl.style.display =\n",
              "          google.colab.kernel.accessAllowed ? 'block' : 'none';\n",
              "\n",
              "        async function convertToInteractive(key) {\n",
              "          const element = document.querySelector('#df-27d8e2b6-cd0e-4531-b761-ea4fd631b248');\n",
              "          const dataTable =\n",
              "            await google.colab.kernel.invokeFunction('convertToInteractive',\n",
              "                                                     [key], {});\n",
              "          if (!dataTable) return;\n",
              "\n",
              "          const docLinkHtml = 'Like what you see? Visit the ' +\n",
              "            '<a target=\"_blank\" href=https://colab.research.google.com/notebooks/data_table.ipynb>data table notebook</a>'\n",
              "            + ' to learn more about interactive tables.';\n",
              "          element.innerHTML = '';\n",
              "          dataTable['output_type'] = 'display_data';\n",
              "          await google.colab.output.renderOutput(dataTable, element);\n",
              "          const docLink = document.createElement('div');\n",
              "          docLink.innerHTML = docLinkHtml;\n",
              "          element.appendChild(docLink);\n",
              "        }\n",
              "      </script>\n",
              "    </div>\n",
              "  </div>\n",
              "  "
            ]
          },
          "metadata": {},
          "execution_count": 19
        }
      ]
    },
    {
      "cell_type": "markdown",
      "source": [
        "### Pre-processing the text"
      ],
      "metadata": {
        "id": "l6TjSi4YPlyc"
      }
    },
    {
      "cell_type": "code",
      "source": [
        "# Reading stop words from a text file in to a list\n",
        "stop_words = [line.rstrip('\\n') for line in open('/content/gdrive/MyDrive/Web and social media analytics/stop_words_long.txt')]"
      ],
      "metadata": {
        "id": "vzxfltpJPrUD"
      },
      "execution_count": 20,
      "outputs": []
    },
    {
      "cell_type": "code",
      "source": [
        "# remove contraction and make it as normal string \n",
        "contractionsMain = {\"ain't\": \"is not\", \"aren't\": \"are not\",\"can't\": \"can not\", \"'cause\": \"because\", \"could've\": \"could have\", \"couldn't\": \"could not\", \"didn't\": \"did not\",  \"doesn't\": \"does not\", \"don't\": \"do not\", \"hadn't\": \"had not\", \"hasn't\": \"has not\", \"haven't\": \"have not\", \"he'd\": \"he would\",\"he'll\": \"he will\", \"he's\": \"he is\", \"how'd\": \"how did\", \"how'd'y\": \"how do you\", \"how'll\": \"how will\", \"how's\": \"how is\",  \"I'd\": \"I would\", \"I'd've\": \"I would have\", \"I'll\": \"I will\", \"I'll've\": \"I will have\",\"I'm\": \"I am\", \"I've\": \"I have\", \"i'd\": \"i would\", \"i'd've\": \"i would have\", \"i'll\": \"i will\",  \"i'll've\": \"i will have\",\"i'm\": \"i am\", \"i've\": \"i have\", \"isn't\": \"is not\", \"it'd\": \"it would\", \"it'd've\": \"it would have\", \"it'll\": \"it will\", \"it'll've\": \"it will have\",\"it's\": \"it is\", \"let's\": \"let us\", \"ma'am\": \"madam\", \"mayn't\": \"may not\", \"might've\": \"might have\",\"mightn't\": \"might not\",\"mightn't've\": \"might not have\", \"must've\": \"must have\", \"mustn't\": \"must not\", \"mustn't've\": \"must not have\", \"needn't\": \"need not\", \"needn't've\": \"need not have\",\"o'clock\": \"of the clock\", \"oughtn't\": \"ought not\", \"oughtn't've\": \"ought not have\", \"shan't\": \"shall not\", \"sha'n't\": \"shall not\", \"shan't've\": \"shall not have\", \"she'd\": \"she would\", \"she'd've\": \"she would have\", \"she'll\": \"she will\", \"she'll've\": \"she will have\", \"she's\": \"she is\", \"should've\": \"should have\", \"shouldn't\": \"should not\", \"shouldn't've\": \"should not have\", \"so've\": \"so have\",\"so's\": \"so as\", \"this's\": \"this is\",\"that'd\": \"that would\", \"that'd've\": \"that would have\", \"that's\": \"that is\", \"there'd\": \"there would\", \"there'd've\": \"there would have\", \"there's\": \"there is\", \"here's\": \"here is\",\"they'd\": \"they would\", \"they'd've\": \"they would have\", \"they'll\": \"they will\", \"they'll've\": \"they will have\", \"they're\": \"they are\", \"they've\": \"they have\", \"to've\": \"to have\", \"wasn't\": \"was not\", \"we'd\": \"we would\", \"we'd've\": \"we would have\", \"we'll\": \"we will\", \"we'll've\": \"we will have\", \"we're\": \"we are\", \"we've\": \"we have\", \"weren't\": \"were not\", \"what'll\": \"what will\", \"what'll've\": \"what will have\", \"what're\": \"what are\",  \"what's\": \"what is\", \"what've\": \"what have\", \"when's\": \"when is\", \"when've\": \"when have\", \"where'd\": \"where did\", \"where's\": \"where is\", \"where've\": \"where have\", \"who'll\": \"who will\", \"who'll've\": \"who will have\", \"who's\": \"who is\", \"who've\": \"who have\", \"why's\": \"why is\", \"why've\": \"why have\", \"will've\": \"will have\", \"won't\": \"will not\", \"won't've\": \"will not have\", \"would've\": \"would have\", \"wouldn't\": \"would not\", \"wouldn't've\": \"would not have\", \"y'all\": \"you all\", \"y'all'd\": \"you all would\",\"y'all'd've\": \"you all would have\",\"y'all're\": \"you all are\",\"y'all've\": \"you all have\",\"you'd\": \"you would\", \"you'd've\": \"you would have\", \"you'll\": \"you will\", \"you'll've\": \"you will have\", \"you're\": \"you are\", \"you've\": \"you have\"}\n",
        "\n",
        "def getcontractions(contractionsMain):\n",
        "    contraction_key = re.compile('(%s)' % '|'.join(contractionsMain.keys()))\n",
        "    return contractionsMain, contraction_key\n",
        "\n",
        "contractions, contraction_key = getcontractions(contractionsMain)\n",
        "def replacecontractions(text):\n",
        "    def replace(match):\n",
        "        return contractions[match.group(0)]\n",
        "    return contraction_key.sub(replace, text)"
      ],
      "metadata": {
        "id": "1V-GNXwXP26-"
      },
      "execution_count": 21,
      "outputs": []
    },
    {
      "cell_type": "code",
      "source": [
        "def remove_punctuations(text):\n",
        "    text = re.sub('[^A-Za-z]+', ' ', text)\n",
        "    \n",
        "    return text"
      ],
      "metadata": {
        "id": "By-x4wceP8TT"
      },
      "execution_count": 22,
      "outputs": []
    },
    {
      "cell_type": "code",
      "source": [
        "#function to remove numbers and punctuation marks\n",
        "puncts_list=['!','@','#','$','%','^','&','*','(',')','-','_','+','=','{','}','[',']',':',';','?','/','\\\\','|','.','<','>']\n",
        "def removepuctuationmarks(x):\n",
        "    x = str(x)\n",
        "    for punct in puncts_list:\n",
        "        if punct in x:\n",
        "            x = x.replace(punct, '')\n",
        "    return x"
      ],
      "metadata": {
        "id": "4nCeN3ACQAlc"
      },
      "execution_count": 23,
      "outputs": []
    },
    {
      "cell_type": "code",
      "source": [
        "# replace charachter appearing for more than twice in any word to single character \n",
        "def replace_multiple_characters(text):\n",
        "        #repeat_pattern = re.compile(r'(\\w)\\1*')\n",
        "        repeat_pattern = re.compile(r'(\\w)\\1{2,}')\n",
        "        match_substitution = r'\\1\\1' \n",
        "        new_word = repeat_pattern.sub(match_substitution,text) \n",
        "        repeat_pattern1 = re.compile(r'(\\w)\\1{1,}$')\n",
        "        match_substitution1 = r'\\1' \n",
        "        new_word = repeat_pattern1.sub(match_substitution1,new_word) \n",
        "        return new_word"
      ],
      "metadata": {
        "id": "Ja7EgFuiQDpU"
      },
      "execution_count": 24,
      "outputs": []
    },
    {
      "cell_type": "code",
      "source": [
        "stemmer = PorterStemmer()\n",
        "wordnet_lemmatizer = WordNetLemmatizer()\n",
        "def preprocessText(document):\n",
        "     # tokenize into words\n",
        "         # change sentence to lower case\n",
        "    document = document.lower()\n",
        "    words = word_tokenize(document)\n",
        "    # remove contractions\n",
        "    words = [ replacecontractions(word) for word in words ]\n",
        "    \n",
        "    # remove stop words\n",
        "    words = [word for word in words if word not in stop_words]\n",
        "    \n",
        "    # remove punctuation marks\n",
        "    \n",
        "    words=[remove_punctuations(word) for word in words]\n",
        "    \n",
        "    words=[replace_multiple_characters(word) for word in words]\n",
        "    \n",
        "    # remove stop words\n",
        "    words = [word for word in words if word not in stop_words]\n",
        "    \n",
        "    #apply lemmatization\n",
        "    words = [wordnet_lemmatizer.lemmatize(word, pos='v') for word in words]\n",
        "\n",
        "    words=[word for word in words if len(word)>2]\n",
        "    # join words to make sentence\n",
        "    document = \" \".join(words)\n",
        "    \n",
        "    return document"
      ],
      "metadata": {
        "id": "-tGq07F6QHOE"
      },
      "execution_count": 25,
      "outputs": []
    },
    {
      "cell_type": "code",
      "source": [
        "import nltk\n",
        "nltk.download('punkt')\n",
        "nltk.download('wordnet')\n",
        "df_reviews[\"reviewText\"]=[preprocessText(str(x)) for x in df_reviews[\"reviewText\"]]"
      ],
      "metadata": {
        "colab": {
          "base_uri": "https://localhost:8080/"
        },
        "id": "5rRqJt7wQJkC",
        "outputId": "8188064a-a676-48d7-a0b1-58c4bff5ab54"
      },
      "execution_count": 26,
      "outputs": [
        {
          "output_type": "stream",
          "name": "stdout",
          "text": [
            "[nltk_data] Downloading package punkt to /root/nltk_data...\n",
            "[nltk_data]   Unzipping tokenizers/punkt.zip.\n",
            "[nltk_data] Downloading package wordnet to /root/nltk_data...\n",
            "[nltk_data]   Unzipping corpora/wordnet.zip.\n"
          ]
        },
        {
          "output_type": "stream",
          "name": "stderr",
          "text": [
            "/usr/local/lib/python3.7/dist-packages/ipykernel_launcher.py:4: SettingWithCopyWarning: \n",
            "A value is trying to be set on a copy of a slice from a DataFrame.\n",
            "Try using .loc[row_indexer,col_indexer] = value instead\n",
            "\n",
            "See the caveats in the documentation: https://pandas.pydata.org/pandas-docs/stable/user_guide/indexing.html#returning-a-view-versus-a-copy\n",
            "  after removing the cwd from sys.path.\n"
          ]
        }
      ]
    },
    {
      "cell_type": "code",
      "source": [
        "# convert to X and y\n",
        "X = df_reviews.reviewText\n",
        "y = df_reviews.review_sentiment\n",
        "print(X.shape)\n",
        "print(y.shape)"
      ],
      "metadata": {
        "colab": {
          "base_uri": "https://localhost:8080/"
        },
        "id": "_xGHOC7SQLW0",
        "outputId": "46914d9e-f158-41e4-e6ff-a4ad8c25e92a"
      },
      "execution_count": 27,
      "outputs": [
        {
          "output_type": "stream",
          "name": "stdout",
          "text": [
            "(63838,)\n",
            "(63838,)\n"
          ]
        }
      ]
    },
    {
      "cell_type": "code",
      "source": [
        "# splitting into test and train\n",
        "from sklearn.model_selection  import train_test_split\n",
        "X_train, X_test, y_train, y_test = train_test_split(X, y, random_state=1)"
      ],
      "metadata": {
        "id": "Wo2ftuieRatL"
      },
      "execution_count": 28,
      "outputs": []
    },
    {
      "cell_type": "code",
      "source": [
        "X_train.head()"
      ],
      "metadata": {
        "colab": {
          "base_uri": "https://localhost:8080/"
        },
        "id": "8oxYAMxRRew3",
        "outputId": "ddc4fe4f-ed6e-402d-8dbf-90c68cdd3387"
      },
      "execution_count": 29,
      "outputs": [
        {
          "output_type": "execute_result",
          "data": {
            "text/plain": [
              "42130    buy phone mom ago work great like complaints g...\n",
              "53310                                                 good\n",
              "23250    happy phone expect meet delivery time responsi...\n",
              "32825    purchase phone upgrade aka optimus true lte ab...\n",
              "32157                              gift granddaughter love\n",
              "Name: reviewText, dtype: object"
            ]
          },
          "metadata": {},
          "execution_count": 29
        }
      ]
    },
    {
      "cell_type": "code",
      "source": [
        "y_train.head()"
      ],
      "metadata": {
        "colab": {
          "base_uri": "https://localhost:8080/"
        },
        "id": "ZRjHxjEgRg9I",
        "outputId": "6a818472-ffe0-49b2-e5e9-ae3b585dbe29"
      },
      "execution_count": 30,
      "outputs": [
        {
          "output_type": "execute_result",
          "data": {
            "text/plain": [
              "42130    1\n",
              "53310    1\n",
              "23250    1\n",
              "32825    1\n",
              "32157    0\n",
              "Name: review_sentiment, dtype: int64"
            ]
          },
          "metadata": {},
          "execution_count": 30
        }
      ]
    },
    {
      "cell_type": "code",
      "source": [
        "# vectorizing the sentences\n",
        "from sklearn.feature_extraction.text import CountVectorizer\n",
        "vect = CountVectorizer()"
      ],
      "metadata": {
        "id": "NtkvI1ViRi3I"
      },
      "execution_count": 31,
      "outputs": []
    },
    {
      "cell_type": "code",
      "source": [
        "vect.fit(X_train)"
      ],
      "metadata": {
        "colab": {
          "base_uri": "https://localhost:8080/"
        },
        "id": "I2833nmqRlzB",
        "outputId": "50d29b70-34b0-49bb-dc2b-baa1197abdb4"
      },
      "execution_count": 32,
      "outputs": [
        {
          "output_type": "execute_result",
          "data": {
            "text/plain": [
              "CountVectorizer()"
            ]
          },
          "metadata": {},
          "execution_count": 32
        }
      ]
    },
    {
      "cell_type": "code",
      "source": [
        "# printing the vocabulary\n",
        "vect.vocabulary_"
      ],
      "metadata": {
        "colab": {
          "base_uri": "https://localhost:8080/"
        },
        "id": "XBZf0ymcRnQM",
        "outputId": "ce4880ff-633a-42bb-aa90-3abf646b1ae7"
      },
      "execution_count": 33,
      "outputs": [
        {
          "output_type": "execute_result",
          "data": {
            "text/plain": [
              "{'buy': 3247,\n",
              " 'phone': 20274,\n",
              " 'mom': 15288,\n",
              " 'ago': 562,\n",
              " 'work': 29871,\n",
              " 'great': 10354,\n",
              " 'like': 13722,\n",
              " 'complaints': 4547,\n",
              " 'get': 9875,\n",
              " 'sale': 23483,\n",
              " 'happy': 10708,\n",
              " 'shes': 24205,\n",
              " 'good': 10136,\n",
              " 'expect': 8266,\n",
              " 'meet': 14672,\n",
              " 'delivery': 5982,\n",
              " 'time': 27110,\n",
              " 'responsible': 22905,\n",
              " 'seller': 23949,\n",
              " 'thank': 26799,\n",
              " 'please': 20579,\n",
              " 'purchase': 21579,\n",
              " 'upgrade': 28545,\n",
              " 'aka': 643,\n",
              " 'optimus': 19296,\n",
              " 'true': 27695,\n",
              " 'lte': 14112,\n",
              " 'absolutely': 70,\n",
              " 'love': 14059,\n",
              " 'fast': 8604,\n",
              " 'brilliant': 2987,\n",
              " 'screen': 23768,\n",
              " 'gen': 9811,\n",
              " 'pro': 21208,\n",
              " 'specs': 25210,\n",
              " 'rival': 23158,\n",
              " 'newly': 16653,\n",
              " 'release': 22554,\n",
              " 'super': 26013,\n",
              " 'motorola': 15432,\n",
              " 'apple': 1228,\n",
              " 'etc': 7957,\n",
              " 'compare': 4484,\n",
              " 'favourably': 8647,\n",
              " 'note': 17684,\n",
              " 'price': 21137,\n",
              " 'definitely': 5911,\n",
              " 'bargain': 2017,\n",
              " 'offer': 19023,\n",
              " 'battery': 2088,\n",
              " 'life': 13675,\n",
              " 'excellent': 8120,\n",
              " 'call': 3352,\n",
              " 'audio': 1647,\n",
              " 'plus': 20628,\n",
              " 'bell': 2266,\n",
              " 'whistle': 29572,\n",
              " 'gift': 9919,\n",
              " 'granddaughter': 10292,\n",
              " 'recomend': 22252,\n",
              " 'buyer': 3249,\n",
              " 'quick': 21799,\n",
              " 'responsable': 22898,\n",
              " 'star': 25496,\n",
              " 'product': 21274,\n",
              " 'cellphone': 3677,\n",
              " 'job': 12861,\n",
              " 'guy': 10533,\n",
              " 'best': 2320,\n",
              " 'experience': 8302,\n",
              " 'month': 15334,\n",
              " 'problems': 21231,\n",
              " 'speaker': 25174,\n",
              " 'listen': 13803,\n",
              " 'break': 2927,\n",
              " 'return': 22991,\n",
              " 'easy': 7232,\n",
              " 'honestly': 11228,\n",
              " 'spend': 25246,\n",
              " 'wel': 29465,\n",
              " 'father': 8621,\n",
              " 'outside': 19488,\n",
              " 'soft': 24958,\n",
              " 'touch': 27338,\n",
              " 'plastic': 20529,\n",
              " 'feel': 8716,\n",
              " 'vulcanize': 29169,\n",
              " 'rubber': 23350,\n",
              " 'border': 2802,\n",
              " 'removable': 22631,\n",
              " 'replaceable': 22710,\n",
              " 'color': 4337,\n",
              " 'underneath': 28113,\n",
              " 'micro': 14878,\n",
              " 'sim': 24441,\n",
              " 'slot': 24724,\n",
              " 'card': 3499,\n",
              " 'devices': 6233,\n",
              " 'tray': 27569,\n",
              " 'ejectable': 7380,\n",
              " 'pin': 20412,\n",
              " 'push': 21630,\n",
              " 'lock': 13920,\n",
              " 'mechanism': 14628,\n",
              " 'similar': 24449,\n",
              " 'performance': 20097,\n",
              " 'mean': 14602,\n",
              " 'period': 20116,\n",
              " 'android': 988,\n",
              " 'run': 23389,\n",
              " 'smoothly': 24833,\n",
              " 'apps': 1285,\n",
              " 'load': 13893,\n",
              " 'quickly': 21808,\n",
              " 'display': 6599,\n",
              " 'bad': 1908,\n",
              " 'discus': 6548,\n",
              " 'briefly': 2969,\n",
              " 'oled': 19107,\n",
              " 'qhd': 21681,\n",
              " 'look': 13991,\n",
              " 'fine': 8860,\n",
              " 'high': 11067,\n",
              " 'ppi': 20903,\n",
              " 'bright': 2972,\n",
              " 'wide': 29628,\n",
              " 'view': 28975,\n",
              " 'angle': 1013,\n",
              " 'latter': 13431,\n",
              " 'ni': 17002,\n",
              " 'overal': 19510,\n",
              " 'backup': 1900,\n",
              " 'worth': 29921,\n",
              " 'dollar': 6783,\n",
              " 'cost': 5109,\n",
              " 'lot': 14038,\n",
              " 'half': 10610,\n",
              " 'accomplish': 165,\n",
              " 'receive': 22179,\n",
              " 'condition': 4684,\n",
              " 'cricket': 5307,\n",
              " 'service': 24064,\n",
              " 'june': 12962,\n",
              " 'baby': 1856,\n",
              " 'protect': 21422,\n",
              " 'cover': 5180,\n",
              " 'body': 2698,\n",
              " 'protector': 21429,\n",
              " 'drop': 7004,\n",
              " 'remember': 22610,\n",
              " 'low': 14074,\n",
              " 'day': 5697,\n",
              " 'shut': 24345,\n",
              " 'try': 27717,\n",
              " 'power': 20874,\n",
              " 'music': 15617,\n",
              " 'button': 3238,\n",
              " 'light': 13700,\n",
              " 'couldnt': 5132,\n",
              " 'key': 13073,\n",
              " 'number': 18596,\n",
              " 'style': 25827,\n",
              " 'test': 26741,\n",
              " 'friends': 9455,\n",
              " 'happen': 10696,\n",
              " 'else': 7459,\n",
              " 'problem': 21224,\n",
              " 'warranty': 29297,\n",
              " 'last': 13406,\n",
              " 'awhile': 1819,\n",
              " 'barely': 2014,\n",
              " 'months': 15337,\n",
              " 'actually': 279,\n",
              " 'share': 24156,\n",
              " 'information': 12108,\n",
              " 'research': 22802,\n",
              " 'it': 12664,\n",
              " 'connect': 4772,\n",
              " 'gsm': 10466,\n",
              " 'cel': 3665,\n",
              " 'tower': 27379,\n",
              " 'mobile': 15203,\n",
              " 'network': 16604,\n",
              " 'not': 17675,\n",
              " 'verizon': 28871,\n",
              " 'sprint': 25349,\n",
              " 'cdma': 3657,\n",
              " 'send': 23971,\n",
              " 'email': 7466,\n",
              " 'customer': 5513,\n",
              " 'support': 26073,\n",
              " 'tracfone': 27411,\n",
              " 'reply': 22729,\n",
              " 'confirm': 4732,\n",
              " 'lg': 13630,\n",
              " 'sunset': 26002,\n",
              " 'roam': 23191,\n",
              " 'separate': 24016,\n",
              " 'inquiry': 12196,\n",
              " 'manufacturer': 14408,\n",
              " 'gps': 10230,\n",
              " 'chipset': 3927,\n",
              " 'glonas': 10045,\n",
              " 'compatible': 4509,\n",
              " 'answer': 1070,\n",
              " 'navstar': 15974,\n",
              " 'track': 27418,\n",
              " 'russian': 23408,\n",
              " 'satellite': 23586,\n",
              " 'surprise': 26141,\n",
              " 'manufacture': 14406,\n",
              " 'capable': 3455,\n",
              " 'obsolete': 18929,\n",
              " 'abandon': 18,\n",
              " 'deal': 5736,\n",
              " 'breaker': 2931,\n",
              " 'pay': 19917,\n",
              " 'little': 13836,\n",
              " 'capability': 3452,\n",
              " 'poor': 20749,\n",
              " 'coverage': 5181,\n",
              " 'road': 23183,\n",
              " 'trip': 27641,\n",
              " 'rural': 23404,\n",
              " 'beast': 2152,\n",
              " 'girlfriend': 9959,\n",
              " 'wonderful': 29835,\n",
              " 'beautiful': 2167,\n",
              " 'excelente': 8107,\n",
              " 'totally': 27332,\n",
              " 'piece': 20388,\n",
              " 'garbage': 9732,\n",
              " 'mine': 14996,\n",
              " 'fel': 8724,\n",
              " 'pocket': 20649,\n",
              " 'lcd': 13491,\n",
              " 'crack': 5211,\n",
              " 'puncture': 21564,\n",
              " 'hole': 11188,\n",
              " 'wait': 29209,\n",
              " 'trash': 27551,\n",
              " 'hunk': 11445,\n",
              " 'junk': 12965,\n",
              " 've': 28795,\n",
              " 'own': 19620,\n",
              " 'loyal': 14085,\n",
              " 'samsung': 23529,\n",
              " 'products': 21284,\n",
              " 'beat': 2154,\n",
              " 'construct': 4863,\n",
              " 'device': 6230,\n",
              " 'engineer': 7643,\n",
              " 'forget': 9242,\n",
              " 'field': 8792,\n",
              " 'leave': 13528,\n",
              " 'weekend': 29441,\n",
              " 'dinky': 6418,\n",
              " 'oem': 19003,\n",
              " 'them': 26832,\n",
              " 'nwhy': 18779,\n",
              " 'mah': 14259,\n",
              " 'right': 23113,\n",
              " 'drink': 6974,\n",
              " 'plain': 20509,\n",
              " 'stupid': 25812,\n",
              " 'nwho': 18777,\n",
              " 'makers': 14300,\n",
              " 'hour': 11325,\n",
              " 'korea': 13260,\n",
              " 'heart': 10892,\n",
              " 'take': 26384,\n",
              " 'jump': 12955,\n",
              " 'emergency': 7498,\n",
              " 'pm': 20636,\n",
              " 'hours': 11328,\n",
              " 'tops': 27305,\n",
              " 'nwhat': 18766,\n",
              " 'total': 27330,\n",
              " 'jackas': 12732,\n",
              " 'pick': 20368,\n",
              " 'crazy': 5266,\n",
              " 'ngo': 16865,\n",
              " 'hyperion': 11494,\n",
              " 'web': 29410,\n",
              " 'site': 24531,\n",
              " 'real': 22079,\n",
              " 'batteries': 2086,\n",
              " 'usage': 28615,\n",
              " 'finish': 8880,\n",
              " 'undate': 28088,\n",
              " 'follow': 9168,\n",
              " 'post': 20836,\n",
              " 'rant': 21956,\n",
              " 'start': 25505,\n",
              " 'direct': 6434,\n",
              " 'better': 2338,\n",
              " 'zerolemmon': 30339,\n",
              " 'sell': 23944,\n",
              " 'nupdate': 18642,\n",
              " 'ahm': 586,\n",
              " 'choice': 3941,\n",
              " 'cut': 5531,\n",
              " 'otterbox': 19423,\n",
              " 'fit': 8934,\n",
              " 'maybe': 14556,\n",
              " 'stretch': 25745,\n",
              " 'zerolemon': 30340,\n",
              " 'yet': 30184,\n",
              " 'nthe': 18459,\n",
              " 'days': 5704,\n",
              " 'size': 24551,\n",
              " 'issue': 12655,\n",
              " 'cal': 3323,\n",
              " 'check': 3844,\n",
              " 'stand': 25471,\n",
              " 'advice': 449,\n",
              " 'impractical': 11808,\n",
              " 'charge': 3799,\n",
              " 'capacity': 3467,\n",
              " 'plan': 20513,\n",
              " 'strait': 25706,\n",
              " 'speed': 25228,\n",
              " 'charger': 3801,\n",
              " 'takes': 26391,\n",
              " 'unles': 28296,\n",
              " 'dremel': 6966,\n",
              " 'waste': 29318,\n",
              " 'money': 15307,\n",
              " 'crap': 5239,\n",
              " 'hope': 11254,\n",
              " 'wish': 29754,\n",
              " 'otherwise': 19411,\n",
              " 'except': 8138,\n",
              " 'camera': 3385,\n",
              " 'suck': 25932,\n",
              " 'perfect': 20071,\n",
              " 'situation': 24538,\n",
              " 'important': 11797,\n",
              " 'dar': 5641,\n",
              " 'wife': 29649,\n",
              " 'busines': 3211,\n",
              " 'clients': 4160,\n",
              " 'providers': 21456,\n",
              " 'peru': 20189,\n",
              " 'attach': 1597,\n",
              " 'unsteady': 28461,\n",
              " 'picture': 20381,\n",
              " 'chaging': 3751,\n",
              " 'dual': 7046,\n",
              " 'see': 23886,\n",
              " 'nokia': 17578,\n",
              " 'lumia': 14140,\n",
              " 'platform': 20540,\n",
              " 'windows': 29699,\n",
              " 'use': 28624,\n",
              " 'semi': 23959,\n",
              " 'daily': 5598,\n",
              " 'driver': 6980,\n",
              " 'astonish': 1542,\n",
              " 'microsoft': 14905,\n",
              " 'mb': 14569,\n",
              " 'ram': 21934,\n",
              " 'fluid': 9117,\n",
              " 'intelligently': 12323,\n",
              " 'design': 6131,\n",
              " 'easier': 7222,\n",
              " 'eye': 8426,\n",
              " 'exceptional': 8141,\n",
              " 'radio': 21894,\n",
              " 'enable': 7565,\n",
              " 'god': 10095,\n",
              " 'reliable': 22566,\n",
              " 'strong': 25764,\n",
              " 'philly': 20250,\n",
              " 'quality': 21738,\n",
              " 'connection': 4779,\n",
              " 'npros': 17940,\n",
              " 'vibrant': 28939,\n",
              " 'create': 5273,\n",
              " 'exceptionally': 8142,\n",
              " 'readable': 22064,\n",
              " 'layout': 13476,\n",
              " 'xl': 30065,\n",
              " 'office': 19033,\n",
              " 'tempt': 26674,\n",
              " 'nhere': 16954,\n",
              " 'map': 14414,\n",
              " 'fantastic': 8571,\n",
              " 'google': 10156,\n",
              " 'provide': 21452,\n",
              " 'routing': 23316,\n",
              " 'ios': 12517,\n",
              " 'counterparts': 5145,\n",
              " 'miss': 15123,\n",
              " 'microsd': 14898,\n",
              " 'photos': 20338,\n",
              " 'plenty': 20597,\n",
              " 'spare': 25155,\n",
              " 'ncons': 16250,\n",
              " 'mp': 15476,\n",
              " 'bare': 2010,\n",
              " 'bone': 2736,\n",
              " 'software': 24971,\n",
              " 'gig': 9923,\n",
              " 'skimpy': 24581,\n",
              " 'memory': 14732,\n",
              " 'storage': 25674,\n",
              " 'lack': 13316,\n",
              " 'front': 9486,\n",
              " 'major': 14292,\n",
              " 'omission': 19124,\n",
              " 'world': 29899,\n",
              " 'skype': 24615,\n",
              " 'frequently': 9432,\n",
              " 'review': 23024,\n",
              " 'stephen': 25580,\n",
              " 'agre': 571,\n",
              " 'count': 5136,\n",
              " 'capabilities': 3451,\n",
              " 'set': 24077,\n",
              " 'bird': 2439,\n",
              " 'useful': 28631,\n",
              " 'chinese': 3919,\n",
              " 're': 22045,\n",
              " 'city': 4057,\n",
              " 'tal': 26396,\n",
              " 'build': 3124,\n",
              " 'make': 14296,\n",
              " 'difference': 6332,\n",
              " 'se': 23832,\n",
              " 'line': 13755,\n",
              " 'of': 19008,\n",
              " 'triangulation': 27614,\n",
              " 'fail': 8499,\n",
              " 'tunnel': 27766,\n",
              " 'example': 8085,\n",
              " 'help': 10971,\n",
              " 'nif': 17034,\n",
              " 'pre': 20938,\n",
              " 'paid': 19679,\n",
              " 'media': 14635,\n",
              " 'player': 20553,\n",
              " 'laggy': 13347,\n",
              " 'feature': 8687,\n",
              " 'nice': 17008,\n",
              " 'shutdown': 24347,\n",
              " 'warn': 29287,\n",
              " 'sometimes': 25038,\n",
              " 'erase': 7814,\n",
              " 'entire': 7709,\n",
              " 'content': 4896,\n",
              " 'contact': 4881,\n",
              " 'amazon': 857,\n",
              " 'despite': 6159,\n",
              " 'sturdy': 25819,\n",
              " 'one': 19138,\n",
              " 'usa': 28610,\n",
              " 'ship': 24228,\n",
              " 'outcome': 19447,\n",
              " 'hopefully': 11258,\n",
              " 'fix': 8947,\n",
              " 'scuff': 23809,\n",
              " 'blemish': 2537,\n",
              " 'possibly': 20832,\n",
              " 'blackberry': 2481,\n",
              " 'bold': 2721,\n",
              " 'date': 5677,\n",
              " 'nthis': 18478,\n",
              " 'adult': 409,\n",
              " 'keyboard': 13079,\n",
              " 'handle': 10659,\n",
              " 'multiple': 15575,\n",
              " 'account': 170,\n",
              " 'able': 38,\n",
              " 'perform': 20094,\n",
              " 'basic': 2045,\n",
              " 'relate': 22539,\n",
              " 'task': 26465,\n",
              " 'decent': 5787,\n",
              " 'video': 28957,\n",
              " 'allow': 732,\n",
              " 'submit': 25863,\n",
              " 'detail': 6181,\n",
              " 'image': 11699,\n",
              " 'securely': 23879,\n",
              " 'traitor': 27468,\n",
              " 'loove': 14021,\n",
              " 'cute': 5533,\n",
              " 'bigger': 2397,\n",
              " 'enough': 7676,\n",
              " 'hand': 10637,\n",
              " 'surprisingly': 26145,\n",
              " 'horrible': 11281,\n",
              " 'document': 6754,\n",
              " 'flaw': 9025,\n",
              " 'near': 16436,\n",
              " 'existent': 8231,\n",
              " 'modern': 15250,\n",
              " 'random': 21948,\n",
              " 'percentages': 20049,\n",
              " 'dead': 5729,\n",
              " 'reason': 22121,\n",
              " 'constantly': 4853,\n",
              " 'overheat': 19538,\n",
              " 'idle': 11594,\n",
              " 'wifi': 29653,\n",
              " 'connectivity': 4781,\n",
              " 'serious': 24051,\n",
              " 'worse': 29915,\n",
              " 'focus': 9145,\n",
              " 'hit': 11141,\n",
              " 'loyalty': 14088,\n",
              " 'contract': 4928,\n",
              " 'neither': 16518,\n",
              " 'apply': 1253,\n",
              " 'amaze': 846,\n",
              " 'sharp': 24165,\n",
              " 'transfer': 27494,\n",
              " 'matter': 14530,\n",
              " 'minutes': 15051,\n",
              " 'step': 25574,\n",
              " 'unlimited': 28301,\n",
              " 'talk': 26403,\n",
              " 'text': 26759,\n",
              " 'data': 5668,\n",
              " 'cheap': 3827,\n",
              " 'motel': 15398,\n",
              " 'restaurant': 22924,\n",
              " 'coffe': 4286,\n",
              " 'shop': 24261,\n",
              " 'sam': 23507,\n",
              " 'club': 4217,\n",
              " 'dive': 6697,\n",
              " 'fre': 9377,\n",
              " 'patrons': 19900,\n",
              " 'town': 27382,\n",
              " 'brighthouse': 2977,\n",
              " 'hotspots': 11317,\n",
              " 'instead': 12266,\n",
              " 'horrendous': 11278,\n",
              " 'fee': 8710,\n",
              " 'belong': 2276,\n",
              " 'intend': 12328,\n",
              " 'explore': 8343,\n",
              " 'excelent': 8106,\n",
              " 'lovely': 14065,\n",
              " 'moderate': 15246,\n",
              " 'dynamic': 7169,\n",
              " 'generation': 9818,\n",
              " 'ipad': 12527,\n",
              " 'nexus': 16706,\n",
              " 'tablet': 26347,\n",
              " 'highly': 11078,\n",
              " 'rat': 21982,\n",
              " 'fonts': 9187,\n",
              " 'regret': 22487,\n",
              " 'omgs': 19123,\n",
              " 'son': 25047,\n",
              " 'enjoy': 7661,\n",
              " 'bite': 2455,\n",
              " 'handsets': 10668,\n",
              " 'robust': 23208,\n",
              " 'africa': 506,\n",
              " 'charm': 3810,\n",
              " 'solid': 24997,\n",
              " 'slight': 24678,\n",
              " 'curve': 5493,\n",
              " 'thoroughly': 26961,\n",
              " 'recommend': 22276,\n",
              " 'comment': 4412,\n",
              " 'select': 23924,\n",
              " 'pink': 20423,\n",
              " 'red': 22338,\n",
              " 'blu': 2619,\n",
              " 'dash': 5658,\n",
              " 'ability': 35,\n",
              " 'carrier': 3556,\n",
              " 'unlock': 28308,\n",
              " 'band': 1969,\n",
              " 'mvno': 15644,\n",
              " 'update': 28533,\n",
              " 'root': 23266,\n",
              " 'robin': 23200,\n",
              " 'instal': 12245,\n",
              " 'aicp': 597,\n",
              " 'improvement': 11828,\n",
              " 'brighter': 2974,\n",
              " 'bug': 3111,\n",
              " 'history': 11140,\n",
              " 'improve': 11826,\n",
              " 'percent': 20047,\n",
              " 'home': 11206,\n",
              " 'settings': 24086,\n",
              " 'bridge': 2966,\n",
              " 'stick': 25604,\n",
              " 'level': 13614,\n",
              " 'prefer': 20992,\n",
              " 'stickier': 25607,\n",
              " 'material': 14517,\n",
              " 'secure': 23878,\n",
              " 'remove': 22635,\n",
              " 'satisfy': 23607,\n",
              " 'question': 21789,\n",
              " 'counterfeit': 5140,\n",
              " 'husband': 11462,\n",
              " 'mhz': 14862,\n",
              " 'stay': 25546,\n",
              " 'edge': 7295,\n",
              " 'friend': 9449,\n",
              " 'sistem': 24525,\n",
              " 'stop': 25664,\n",
              " 'week': 29439,\n",
              " 'gramma': 10282,\n",
              " 'volume': 29119,\n",
              " 'figure': 8812,\n",
              " 'ring': 23126,\n",
              " 'lol': 13963,\n",
              " 'gb': 9775,\n",
              " 'headphone': 10868,\n",
              " 'two': 27849,\n",
              " 'way': 29364,\n",
              " 'pretty': 21115,\n",
              " 'lightahead': 13701,\n",
              " 'graphics': 10322,\n",
              " 'pop': 20753,\n",
              " 'tmobile': 27198,\n",
              " 'chip': 3924,\n",
              " 'worked': 29878,\n",
              " 'internal': 12384,\n",
              " 'download': 6881,\n",
              " 'clear': 4128,\n",
              " 'cache': 3309,\n",
              " 'rid': 23093,\n",
              " 'live': 13840,\n",
              " 'wallpaper': 29244,\n",
              " 'producto': 21281,\n",
              " 'background': 1879,\n",
              " 'currently': 5479,\n",
              " 'replace': 22708,\n",
              " 'nfor': 16793,\n",
              " 'junkies': 12968,\n",
              " 'comparisons': 4492,\n",
              " 'idea': 11569,\n",
              " 'particular': 19827,\n",
              " 'phones': 20297,\n",
              " 'nsome': 18272,\n",
              " 'positive': 20816,\n",
              " 'awsome': 1828,\n",
              " 'amoled': 909,\n",
              " 'wash': 29308,\n",
              " 'glas': 10000,\n",
              " 'sun': 25985,\n",
              " 'unusable': 28494,\n",
              " 'capacitive': 3463,\n",
              " 'resistive': 22851,\n",
              " 'immediate': 11738,\n",
              " 'response': 22900,\n",
              " 'repeat': 22694,\n",
              " 'poke': 20688,\n",
              " 'fingertips': 8877,\n",
              " 'stylus': 25838,\n",
              " 'par': 19773,\n",
              " 'cameras': 3392,\n",
              " 'nnow': 17525,\n",
              " 'program': 21318,\n",
              " 'videos': 28963,\n",
              " 'none': 17602,\n",
              " 'wlan': 29797,\n",
              " 'realize': 22095,\n",
              " 'scan': 23659,\n",
              " 'wlans': 29798,\n",
              " 'mail': 14265,\n",
              " 'scanner': 23662,\n",
              " 'ndo': 16395,\n",
              " 'yourself': 30244,\n",
              " 'favor': 8638,\n",
              " 'belle': 2268,\n",
              " 'user': 28639,\n",
              " 'friendly': 9454,\n",
              " 'guide': 10501,\n",
              " 'thru': 27030,\n",
              " 'installation': 12250,\n",
              " 'nabout': 15717,\n",
              " 'negative': 16495,\n",
              " 'texts': 26770,\n",
              " 'mms': 15186,\n",
              " 'board': 2686,\n",
              " 'finger': 8867,\n",
              " 'adjust': 367,\n",
              " 'me': 14597,\n",
              " 'admit': 383,\n",
              " 'november': 17755,\n",
              " 'nokias': 17579,\n",
              " 'faster': 8607,\n",
              " 'exception': 8140,\n",
              " 'lightning': 13710,\n",
              " 'seconds': 23866,\n",
              " 'con': 4638,\n",
              " 'find': 8852,\n",
              " 'surf': 26116,\n",
              " 'internet': 12395,\n",
              " 'course': 5166,\n",
              " 'message': 14797,\n",
              " 'gues': 10493,\n",
              " 'texting': 26765,\n",
              " 'that': 26808,\n",
              " 'nstil': 18342,\n",
              " 'september': 24027,\n",
              " 'mention': 14751,\n",
              " 'heavy': 10924,\n",
              " 'adapt': 301,\n",
              " 'probably': 21213,\n",
              " 'freak': 9378,\n",
              " 'impress': 11815,\n",
              " 'heavily': 10921,\n",
              " 'plug': 20615,\n",
              " 'whenever': 29535,\n",
              " 'outlet': 19465,\n",
              " 'available': 1752,\n",
              " 'rarely': 21973,\n",
              " 'worry': 29913,\n",
              " 'percentage': 20048,\n",
              " 'incredibly': 11965,\n",
              " 'speedy': 25235,\n",
              " 'extremely': 8414,\n",
              " 'processor': 21256,\n",
              " 'especially': 7877,\n",
              " 'crystal': 5394,\n",
              " 'play': 20548,\n",
              " 'bloatware': 2572,\n",
              " 'come': 4373,\n",
              " 'disable': 6455,\n",
              " 'complex': 4563,\n",
              " 'people': 20031,\n",
              " 'trick': 27618,\n",
              " 'efficiently': 7342,\n",
              " 'online': 19168,\n",
              " 'forums': 9296,\n",
              " 'tip': 27157,\n",
              " 'lag': 13339,\n",
              " 'switch': 26254,\n",
              " 'change': 3775,\n",
              " 'market': 14447,\n",
              " 'series': 24048,\n",
              " 'starter': 25509,\n",
              " 'virgin': 29016,\n",
              " 'top': 27295,\n",
              " 'carriers': 3558,\n",
              " 'starters': 25510,\n",
              " 'arguably': 1363,\n",
              " 'lineup': 13766,\n",
              " 'triumph': 27654,\n",
              " 'slider': 24671,\n",
              " 'rubbery': 23358,\n",
              " 'shel': 24197,\n",
              " 'nbsp': 16090,\n",
              " 'hook': 11244,\n",
              " 'link': 13771,\n",
              " 'linked': 13774,\n",
              " 'class': 4097,\n",
              " 'normal': 17656,\n",
              " 'href': 11360,\n",
              " 'commuter': 4451,\n",
              " 'case': 3579,\n",
              " 'for': 9205,\n",
              " 'black': 2478,\n",
              " 'retail': 22956,\n",
              " 'packaging': 19648,\n",
              " 'dp': 6913,\n",
              " 'loggdq': 13941,\n",
              " 'ref': 22392,\n",
              " 'cm': 4236,\n",
              " 'cr': 5209,\n",
              " 'arp': 1396,\n",
              " 'rvw': 23418,\n",
              " 'txt': 27859,\n",
              " 'ie': 11602,\n",
              " 'utf': 28676,\n",
              " 'package': 19645,\n",
              " 'peace': 19956,\n",
              " 'mind': 14984,\n",
              " 'inch': 11886,\n",
              " 'vivid': 29058,\n",
              " 'cramp': 5235,\n",
              " 'swype': 26273,\n",
              " 'regular': 22497,\n",
              " 'swipe': 26247,\n",
              " 'mistake': 15139,\n",
              " 'type': 27870,\n",
              " 'portrait': 20795,\n",
              " 'mode': 15238,\n",
              " 'large': 13395,\n",
              " 'medium': 14663,\n",
              " 'landscape': 13373,\n",
              " 'larger': 13397,\n",
              " 'stock': 25646,\n",
              " 'read': 22062,\n",
              " 'overlay': 19548,\n",
              " 'interface': 12364,\n",
              " 'oses': 19389,\n",
              " 'favorite': 8642,\n",
              " 'normally': 17657,\n",
              " 'towers': 27380,\n",
              " 'voice': 29098,\n",
              " 'unlike': 28298,\n",
              " 'reenter': 22388,\n",
              " 'reach': 22049,\n",
              " 'website': 29425,\n",
              " 'sound': 25102,\n",
              " 'slow': 24729,\n",
              " 'comparison': 4491,\n",
              " 'multitasking': 15586,\n",
              " 'occasional': 18954,\n",
              " 'slowdown': 24730,\n",
              " 'speak': 25173,\n",
              " 'outdoor': 19451,\n",
              " 'stage': 25448,\n",
              " 'pres': 21055,\n",
              " 'slightly': 24681,\n",
              " 'autofocus': 1708,\n",
              " 'clas': 4094,\n",
              " 'transcend': 27485,\n",
              " 'microsdhc': 14899,\n",
              " 'flash': 8996,\n",
              " 'ts': 27724,\n",
              " 'gusdhc': 10522,\n",
              " 'dg': 6257,\n",
              " 'increase': 11956,\n",
              " 'acces': 129,\n",
              " 'limit': 13743,\n",
              " 'move': 15456,\n",
              " 'worst': 29919,\n",
              " 'mes': 14789,\n",
              " 'nwith': 18795,\n",
              " 'kill': 13139,\n",
              " 'saving': 23629,\n",
              " 'exactly': 8076,\n",
              " 'minimal': 15006,\n",
              " 'include': 11906,\n",
              " 'metropcs': 14832,\n",
              " 'freeze': 9413,\n",
              " 'space': 25134,\n",
              " 'delete': 5954,\n",
              " 'put': 21638,\n",
              " 'ones': 19149,\n",
              " 'usb': 28621,\n",
              " 'smart': 24765,\n",
              " 'family': 8551,\n",
              " 'previous': 21128,\n",
              " 'clunky': 4229,\n",
              " 'massive': 14494,\n",
              " 'awesome': 1811,\n",
              " 'iphone': 12537,\n",
              " 'functionality': 9592,\n",
              " 'comfortable': 4388,\n",
              " 'hold': 11182,\n",
              " 'learn': 13513,\n",
              " 'hard': 10716,\n",
              " 'habit': 10566,\n",
              " 'brightnes': 2980,\n",
              " 'notch': 17681,\n",
              " 'sunlight': 25996,\n",
              " 'sunglasses': 25995,\n",
              " 'clearly': 4136,\n",
              " 'outstanding': 19491,\n",
              " 'overnight': 19556,\n",
              " 'night': 17040,\n",
              " 'stuf': 25799,\n",
              " 'harm': 10751,\n",
              " 'kinda': 13153,\n",
              " 'neat': 16451,\n",
              " 'gesture': 9873,\n",
              " 'control': 4950,\n",
              " 'search': 23846,\n",
              " 'function': 9588,\n",
              " 'genie': 9831,\n",
              " 'siri': 24516,\n",
              " 'knock': 13230,\n",
              " 'desire': 6142,\n",
              " 'intuitive': 12458,\n",
              " 'galaxy': 9683,\n",
              " 'catch': 3611,\n",
              " 'sales': 23486,\n",
              " 'pad': 19658,\n",
              " 'solely': 24993,\n",
              " 'item': 12673,\n",
              " 'rocker': 23213,\n",
              " 'manually': 14397,\n",
              " 'lower': 14077,\n",
              " 'higher': 11069,\n",
              " 'aware': 1801,\n",
              " 'decide': 5798,\n",
              " 'enrol': 7682,\n",
              " 'simple': 24461,\n",
              " 'savy': 23633,\n",
              " 'frustrate': 9512,\n",
              " 'alcatel': 673,\n",
              " 'appear': 1213,\n",
              " 'prevent': 21121,\n",
              " 'luck': 14121,\n",
              " 'revert': 23023,\n",
              " 'partition': 19832,\n",
              " 'okay': 19087,\n",
              " 'anal': 947,\n",
              " 'approach': 1273,\n",
              " 'custom': 5509,\n",
              " 'fourth': 9327,\n",
              " 'register': 22477,\n",
              " 'had': 10582,\n",
              " 'nyet': 18848,\n",
              " 'correctly': 5079,\n",
              " 'reset': 22823,\n",
              " 'self': 23935,\n",
              " 'randomly': 21949,\n",
              " 'twice': 27831,\n",
              " 'team': 26518,\n",
              " 'result': 22946,\n",
              " 'expectations': 8270,\n",
              " 'correct': 5070,\n",
              " 'model': 15240,\n",
              " 'sqn': 25365,\n",
              " 'fulfil': 9550,\n",
              " 'attempt': 1610,\n",
              " 'brand': 2905,\n",
              " 'nwhen': 18769,\n",
              " 'supplier': 26068,\n",
              " 'soon': 25072,\n",
              " 'request': 22773,\n",
              " 'unbranded': 28035,\n",
              " 'international': 12390,\n",
              " 'lottery': 14041,\n",
              " 'realise': 22087,\n",
              " 'sub': 25841,\n",
              " 'models': 15242,\n",
              " 'nonce': 17598,\n",
              " 'personally': 20172,\n",
              " 'onscreen': 19175,\n",
              " 'write': 29980,\n",
              " 'lose': 14027,\n",
              " 'physical': 20356,\n",
              " 'obviously': 18945,\n",
              " 'mature': 14533,\n",
              " 'impressive': 11819,\n",
              " 'development': 6223,\n",
              " 'trouble': 27675,\n",
              " 'earlier': 7198,\n",
              " 'winner': 29713,\n",
              " 'unfortunately': 28203,\n",
              " 'users': 28643,\n",
              " 'on': 19134,\n",
              " 'game': 9703,\n",
              " 'disappoint': 6473,\n",
              " 'ngreat': 16891,\n",
              " 'responsive': 22907,\n",
              " 'snapdragon': 24864,\n",
              " 'cpu': 5206,\n",
              " 'silky': 24438,\n",
              " 'smooth': 24828,\n",
              " 'blaze': 2522,\n",
              " 'mainly': 14282,\n",
              " 'fault': 8630,\n",
              " 'version': 28887,\n",
              " 'wrong': 29991,\n",
              " 'tell': 26646,\n",
              " 'china': 3913,\n",
              " 'repair': 22679,\n",
              " 'omg': 19121,\n",
              " 'believe': 2260,\n",
              " 'hotspot': 11316,\n",
              " 'choices': 3942,\n",
              " 'base': 2035,\n",
              " 'match': 14509,\n",
              " 'carry': 3560,\n",
              " 'belt': 2280,\n",
              " 'holster': 11199,\n",
              " 'glance': 9998,\n",
              " 'up': 28524,\n",
              " 'down': 6869,\n",
              " 'back': 1860,\n",
              " 'twine': 27837,\n",
              " 'strap': 25713,\n",
              " 'landmark': 13372,\n",
              " 'arrive': 1410,\n",
              " 'bunch': 3174,\n",
              " 'applications': 1247,\n",
              " 'french': 9422,\n",
              " 'italian': 12667,\n",
              " 'nxperia': 18831,\n",
              " 'helpful': 10975,\n",
              " 'respond': 22890,\n",
              " 'assistance': 1519,\n",
              " 'sony': 25065,\n",
              " 'companion': 4469,\n",
              " 'management': 14349,\n",
              " 'exelente': 8193,\n",
              " 'fun': 9568,\n",
              " 'nail': 15783,\n",
              " 'dig': 6354,\n",
              " 'subsidize': 25885,\n",
              " 'sight': 24402,\n",
              " ...}"
            ]
          },
          "metadata": {},
          "execution_count": 33
        }
      ]
    },
    {
      "cell_type": "code",
      "source": [
        "# vocab size\n",
        "len(vect.vocabulary_.keys())"
      ],
      "metadata": {
        "colab": {
          "base_uri": "https://localhost:8080/"
        },
        "id": "RcOzhq2_RpUs",
        "outputId": "a5ecb486-8d61-4795-8d49-74ad5ba87355"
      },
      "execution_count": 34,
      "outputs": [
        {
          "output_type": "execute_result",
          "data": {
            "text/plain": [
              "30425"
            ]
          },
          "metadata": {},
          "execution_count": 34
        }
      ]
    },
    {
      "cell_type": "code",
      "source": [
        "# transforming the train and test datasets\n",
        "X_train_transformed = vect.transform(X_train)\n",
        "X_test_transformed = vect.transform(X_test)"
      ],
      "metadata": {
        "id": "vHL9h6n4Rswo"
      },
      "execution_count": 35,
      "outputs": []
    },
    {
      "cell_type": "code",
      "source": [
        "# note that the type is transformed (sparse) matrix\n",
        "print(type(X_train_transformed))\n",
        "print(X_train_transformed)"
      ],
      "metadata": {
        "colab": {
          "base_uri": "https://localhost:8080/"
        },
        "id": "aMpye3D2RwTX",
        "outputId": "9ab1e3cc-db90-4e60-8611-8618456ccebc"
      },
      "execution_count": 36,
      "outputs": [
        {
          "output_type": "stream",
          "name": "stdout",
          "text": [
            "<class 'scipy.sparse.csr.csr_matrix'>\n",
            "  (0, 562)\t1\n",
            "  (0, 3247)\t1\n",
            "  (0, 4547)\t1\n",
            "  (0, 9875)\t1\n",
            "  (0, 10354)\t1\n",
            "  (0, 10708)\t2\n",
            "  (0, 13722)\t1\n",
            "  (0, 15288)\t1\n",
            "  (0, 20274)\t1\n",
            "  (0, 23483)\t1\n",
            "  (0, 24205)\t1\n",
            "  (0, 29871)\t1\n",
            "  (1, 10136)\t1\n",
            "  (2, 5982)\t1\n",
            "  (2, 8266)\t1\n",
            "  (2, 10708)\t1\n",
            "  (2, 14672)\t1\n",
            "  (2, 20274)\t1\n",
            "  (2, 20579)\t1\n",
            "  (2, 22905)\t1\n",
            "  (2, 23949)\t1\n",
            "  (2, 26799)\t1\n",
            "  (2, 27110)\t1\n",
            "  (3, 70)\t1\n",
            "  (3, 643)\t1\n",
            "  :\t:\n",
            "  (47874, 29694)\t1\n",
            "  (47875, 494)\t1\n",
            "  (47875, 1253)\t1\n",
            "  (47875, 1410)\t1\n",
            "  (47875, 2869)\t1\n",
            "  (47875, 4388)\t1\n",
            "  (47875, 8604)\t1\n",
            "  (47875, 10354)\t1\n",
            "  (47875, 18478)\t1\n",
            "  (47875, 20274)\t1\n",
            "  (47875, 21274)\t1\n",
            "  (47875, 22773)\t1\n",
            "  (47875, 23836)\t1\n",
            "  (47875, 24086)\t1\n",
            "  (47876, 10136)\t1\n",
            "  (47877, 70)\t1\n",
            "  (47877, 7222)\t1\n",
            "  (47877, 8076)\t1\n",
            "  (47877, 11182)\t1\n",
            "  (47877, 14059)\t1\n",
            "  (47877, 17684)\t1\n",
            "  (47877, 20274)\t1\n",
            "  (47877, 25521)\t1\n",
            "  (47877, 26403)\t1\n",
            "  (47877, 28545)\t1\n"
          ]
        }
      ]
    },
    {
      "cell_type": "markdown",
      "source": [
        "##**Building and Evaluating Model**"
      ],
      "metadata": {
        "id": "FEWUIkG6Ry-n"
      }
    },
    {
      "cell_type": "markdown",
      "source": [
        "## Model 1"
      ],
      "metadata": {
        "id": "sqCyO6hrT8ny"
      }
    },
    {
      "cell_type": "code",
      "source": [
        "# function to plot confusion matrix\n",
        "def plot_confusion_matrix(confusion_matrix):\n",
        "    group_names = ['True Neg','False Pos','False Neg','True Pos']\n",
        "    group_counts = [\"{0:0.0f}\".format(value) for value in\n",
        "                confusion_matrix.flatten()]\n",
        "\n",
        "    labels = [f\"{v1}\\n{v2}\" for v1, v2 in\n",
        "          zip(group_names,group_counts)]\n",
        "    labels = np.asarray(labels).reshape(2,2)\n",
        "    sns.heatmap(confusion_matrix, annot=labels, fmt='', cmap='Blues')\n",
        "    plt.title(\"Confusion matrix\")\n",
        "    plt.show()"
      ],
      "metadata": {
        "id": "bVTa8aNkR7L7"
      },
      "execution_count": 37,
      "outputs": []
    },
    {
      "cell_type": "code",
      "source": [
        "# training the NB model and making predictions\n",
        "from sklearn.naive_bayes import MultinomialNB\n",
        "mnb = MultinomialNB()\n",
        "\n",
        "# fit\n",
        "mnb.fit(X_train_transformed,y_train)\n",
        "\n",
        "#Applying the model on train set too\n",
        "y_pred_train = mnb.predict(X_train_transformed) # returns classes 0 and 1\n",
        "\n",
        "y_pred_proba_tr = mnb.predict_proba(X_train_transformed) # returns the probability of a review being positive\n",
        "\n",
        "# predict class\n",
        "y_pred_class = mnb.predict(X_test_transformed)\n",
        "\n",
        "# predict probabilities\n",
        "y_pred_proba = mnb.predict_proba(X_test_transformed)"
      ],
      "metadata": {
        "id": "ftDwtGBxR9m6"
      },
      "execution_count": 58,
      "outputs": []
    },
    {
      "cell_type": "code",
      "source": [
        "# printing  accuracy on train dataset\n",
        "from sklearn import metrics\n",
        "y_pred_train = mnb.predict(X_train_transformed)\n",
        "\n",
        "print (\"Accuracy on train dataset :\")\n",
        "metrics.accuracy_score( y_train, y_pred_train)"
      ],
      "metadata": {
        "colab": {
          "base_uri": "https://localhost:8080/"
        },
        "id": "58T5ZYyuR_1N",
        "outputId": "cedff669-6f17-4781-84b1-fde8df2cd505"
      },
      "execution_count": 39,
      "outputs": [
        {
          "output_type": "stream",
          "name": "stdout",
          "text": [
            "Accuracy on train dataset :\n"
          ]
        },
        {
          "output_type": "execute_result",
          "data": {
            "text/plain": [
              "0.8724257487781445"
            ]
          },
          "metadata": {},
          "execution_count": 39
        }
      ]
    },
    {
      "cell_type": "code",
      "source": [
        "# printing the  accuracy on test dataset\n",
        "from sklearn import metrics\n",
        "print (\"Accuracy on test dataset :\")\n",
        "metrics.accuracy_score(y_test, y_pred_class)"
      ],
      "metadata": {
        "colab": {
          "base_uri": "https://localhost:8080/"
        },
        "id": "c9j6QVFwSB2M",
        "outputId": "3645f93b-5f24-47bf-9757-08cd17cdf717"
      },
      "execution_count": 40,
      "outputs": [
        {
          "output_type": "stream",
          "name": "stdout",
          "text": [
            "Accuracy on test dataset :\n"
          ]
        },
        {
          "output_type": "execute_result",
          "data": {
            "text/plain": [
              "0.8597117794486215"
            ]
          },
          "metadata": {},
          "execution_count": 40
        }
      ]
    },
    {
      "cell_type": "markdown",
      "source": [
        "### **Confusion Matrix for Train Dataset**"
      ],
      "metadata": {
        "id": "vkxXYraZSFzl"
      }
    },
    {
      "cell_type": "code",
      "source": [
        "# confusion matrix\n",
        "confusion_train =metrics.confusion_matrix(y_train, y_pred_train)\n",
        "print(confusion_train)"
      ],
      "metadata": {
        "colab": {
          "base_uri": "https://localhost:8080/"
        },
        "id": "BVqiFT3MSMwU",
        "outputId": "0d572aa0-bbbd-4bca-acbc-f1229b0e120c"
      },
      "execution_count": 41,
      "outputs": [
        {
          "output_type": "stream",
          "name": "stdout",
          "text": [
            "[[ 7809  4346]\n",
            " [ 1762 33961]]\n"
          ]
        }
      ]
    },
    {
      "cell_type": "code",
      "source": [
        "# ploting confusion matrix\n",
        "plot_confusion_matrix(confusion_train)"
      ],
      "metadata": {
        "colab": {
          "base_uri": "https://localhost:8080/",
          "height": 284
        },
        "id": "Od20VqpvSQZn",
        "outputId": "2d900206-d6c6-4a70-d549-e7a9f0312740"
      },
      "execution_count": 42,
      "outputs": [
        {
          "output_type": "display_data",
          "data": {
            "text/plain": [
              "<Figure size 432x288 with 2 Axes>"
            ],
            "image/png": "[encoded data removed]"
          },
          "metadata": {
            "needs_background": "light"
          }
        }
      ]
    },
    {
      "cell_type": "markdown",
      "source": [
        "### **Confusion Matrix for Test Dataset**"
      ],
      "metadata": {
        "id": "UK1bLsL2SWpb"
      }
    },
    {
      "cell_type": "code",
      "source": [
        "# confusion matrix\n",
        "confusion_test =metrics.confusion_matrix(y_test, y_pred_class)\n",
        "print(confusion_test)"
      ],
      "metadata": {
        "colab": {
          "base_uri": "https://localhost:8080/"
        },
        "id": "uN0JfDqaSiL5",
        "outputId": "ae892005-3304-479f-a34a-22d01f17be4f"
      },
      "execution_count": 43,
      "outputs": [
        {
          "output_type": "stream",
          "name": "stdout",
          "text": [
            "[[ 2343  1663]\n",
            " [  576 11378]]\n"
          ]
        }
      ]
    },
    {
      "cell_type": "code",
      "source": [
        "# ploting confusion matrix\n",
        "plot_confusion_matrix(confusion_test)"
      ],
      "metadata": {
        "colab": {
          "base_uri": "https://localhost:8080/",
          "height": 284
        },
        "id": "8LTeKhcnSp17",
        "outputId": "67ac8252-28b7-40bd-b115-5513c2439fe9"
      },
      "execution_count": 44,
      "outputs": [
        {
          "output_type": "display_data",
          "data": {
            "text/plain": [
              "<Figure size 432x288 with 2 Axes>"
            ],
            "image/png": "[encoded data removed]"
          },
          "metadata": {
            "needs_background": "light"
          }
        }
      ]
    },
    {
      "cell_type": "markdown",
      "source": [
        "### Let's calculate other Matrics - Sensitivity, Specificity, Precision,Recall and F1 score for train and test dataset\n"
      ],
      "metadata": {
        "id": "jg0SpvZxSvA6"
      }
    },
    {
      "cell_type": "code",
      "source": [
        "# for train dataset\n",
        "TN_train = confusion_train[0, 0]\n",
        "FP_train = confusion_train[0, 1]\n",
        "FN_train = confusion_train[1, 0]\n",
        "TP_train = confusion_train[1, 1]"
      ],
      "metadata": {
        "id": "hX0yhg_uTGR-"
      },
      "execution_count": 45,
      "outputs": []
    },
    {
      "cell_type": "code",
      "source": [
        "# for test datset\n",
        "TN_test = confusion_test[0, 0]\n",
        "FP_test = confusion_test[0, 1]\n",
        "FN_test = confusion_test[1, 0]\n",
        "TP_test = confusion_test[1, 1]"
      ],
      "metadata": {
        "id": "jsphY5GkTJsH"
      },
      "execution_count": 46,
      "outputs": []
    },
    {
      "cell_type": "markdown",
      "source": [
        "**Sensitivity Metrics**"
      ],
      "metadata": {
        "id": "rfkLm6BGTL75"
      }
    },
    {
      "cell_type": "markdown",
      "source": [
        "**Sensitivity (True Positive Rate)** is a measure of the proportion of actual positive cases that got predicted as positive.\n",
        "\n",
        "**Specificity (True Negative Rate)** is defined as the proportion of actual negatives, which got predicted as the negative (or true negative).\n",
        "\n",
        "**Sensitivity and Specificity** measures are used to plot the ROC curve. And, Area under ROC curve (AUC) is used to determine the model performance."
      ],
      "metadata": {
        "id": "vWfhPbVmI1gp"
      }
    },
    {
      "cell_type": "markdown",
      "source": [
        "`True Positive Rate = True Positives / (True Positives + False Negatives)`"
      ],
      "metadata": {
        "id": "SU6g4uCeJzRh"
      }
    },
    {
      "cell_type": "markdown",
      "source": [
        "`False Positive Rate = False Positives / (False Positives + True Negatives)`"
      ],
      "metadata": {
        "id": "z4W0_Gx8KEgi"
      }
    },
    {
      "cell_type": "markdown",
      "source": [
        "**For this particular problem, the metrics that have been chosen are sensitivity and specificity. The reason being, you do not want to make the same mistake as your competitor that had resulted in a negative sentiment of the customer (specificity), and at the same time your product should also cover the aspects that have resulted in positive sentiment for the competitor products (sensitivity)**"
      ],
      "metadata": {
        "id": "ZiJNF-5CXf8J"
      }
    },
    {
      "cell_type": "code",
      "source": [
        "sensitivity_train = TP_train / float(FN_train + TP_train)\n",
        "sensitivity_test = TP_test / float(FN_test + TP_test)\n",
        "print(\"sensitivity on train dataset\",sensitivity_train)\n",
        "print(\"sensitivity on test dataset\",sensitivity_test)"
      ],
      "metadata": {
        "colab": {
          "base_uri": "https://localhost:8080/"
        },
        "id": "ZaABq9YDTTIC",
        "outputId": "0df45c42-633d-4de7-dc61-edc91796b762"
      },
      "execution_count": 47,
      "outputs": [
        {
          "output_type": "stream",
          "name": "stdout",
          "text": [
            "sensitivity on train dataset 0.9506760350474485\n",
            "sensitivity on test dataset 0.9518152919524845\n"
          ]
        }
      ]
    },
    {
      "cell_type": "markdown",
      "source": [
        "**Specificity Metrics**"
      ],
      "metadata": {
        "id": "HogLN63nTVMQ"
      }
    },
    {
      "cell_type": "code",
      "source": [
        "specificity_train = TN_train / float(TN_train + FP_train)\n",
        "specificity_test = TN_test / float(TN_test + FP_test)\n",
        "print(\"specificity on train dataset\",specificity_train)\n",
        "print(\"specificity on train dataset\",specificity_test)"
      ],
      "metadata": {
        "colab": {
          "base_uri": "https://localhost:8080/"
        },
        "id": "nVtCs78tTaPB",
        "outputId": "9307bcbd-e239-426d-957a-360a88e0c5ff"
      },
      "execution_count": 48,
      "outputs": [
        {
          "output_type": "stream",
          "name": "stdout",
          "text": [
            "specificity on train dataset 0.6424516659810777\n",
            "specificity on train dataset 0.5848726909635547\n"
          ]
        }
      ]
    },
    {
      "cell_type": "markdown",
      "source": [
        "**Precision Metrics**"
      ],
      "metadata": {
        "id": "eWZ6ZccPTdm6"
      }
    },
    {
      "cell_type": "code",
      "source": [
        "precision_train = TP_train / float(TP_train + FP_train)\n",
        "precision_test = TP_test / float(TP_test + FP_test)\n",
        "print(\"precision on train dataset\",precision_train)\n",
        "print(\"precision on test dataset\",precision_test)"
      ],
      "metadata": {
        "colab": {
          "base_uri": "https://localhost:8080/"
        },
        "id": "vE0gSYLzThJK",
        "outputId": "5f996b80-20e2-451f-d19a-2bf2d7718d7a"
      },
      "execution_count": 49,
      "outputs": [
        {
          "output_type": "stream",
          "name": "stdout",
          "text": [
            "precision on train dataset 0.8865481504685828\n",
            "precision on test dataset 0.8724791043631623\n"
          ]
        }
      ]
    },
    {
      "cell_type": "markdown",
      "source": [
        "**Recall Metrics**"
      ],
      "metadata": {
        "id": "xkFV9epoTk7-"
      }
    },
    {
      "cell_type": "code",
      "source": [
        "print(\"RECALL SCORE on train dataset :\", metrics.recall_score(y_train, y_pred_train))\n",
        "print(\"RECALL SCORE on test dataset :\", metrics.recall_score(y_test, y_pred_class))"
      ],
      "metadata": {
        "colab": {
          "base_uri": "https://localhost:8080/"
        },
        "id": "P6E-Zow8Tob_",
        "outputId": "467fec56-0217-49ce-8355-0d8597632aa9"
      },
      "execution_count": 50,
      "outputs": [
        {
          "output_type": "stream",
          "name": "stdout",
          "text": [
            "RECALL SCORE on train dataset : 0.9506760350474485\n",
            "RECALL SCORE on test dataset : 0.9518152919524845\n"
          ]
        }
      ]
    },
    {
      "cell_type": "markdown",
      "source": [
        "**F1 Score**"
      ],
      "metadata": {
        "id": "rRNd-K-JTr3d"
      }
    },
    {
      "cell_type": "code",
      "source": [
        "print(\"F1 SCORE for train dataset :\",metrics.f1_score(y_train, y_pred_train))\n",
        "print(\"F1 SCORE for test dataset :\",metrics.f1_score(y_test, y_pred_class))"
      ],
      "metadata": {
        "colab": {
          "base_uri": "https://localhost:8080/"
        },
        "id": "91WCBUiTTvyp",
        "outputId": "3dcb8bf2-125b-41c8-fcbe-bd0f1c48cabf"
      },
      "execution_count": 51,
      "outputs": [
        {
          "output_type": "stream",
          "name": "stdout",
          "text": [
            "F1 SCORE for train dataset : 0.9174929082804268\n",
            "F1 SCORE for test dataset : 0.9104220844168834\n"
          ]
        }
      ]
    },
    {
      "cell_type": "code",
      "source": [
        "y_pred_class"
      ],
      "metadata": {
        "colab": {
          "base_uri": "https://localhost:8080/"
        },
        "id": "onlOLzdtTzFj",
        "outputId": "02ccea35-bab6-41dc-c2c2-b41fcf1e5300"
      },
      "execution_count": 52,
      "outputs": [
        {
          "output_type": "execute_result",
          "data": {
            "text/plain": [
              "array([1, 1, 1, ..., 1, 1, 1])"
            ]
          },
          "metadata": {},
          "execution_count": 52
        }
      ]
    },
    {
      "cell_type": "code",
      "source": [
        "y_pred_proba"
      ],
      "metadata": {
        "colab": {
          "base_uri": "https://localhost:8080/"
        },
        "id": "T8o9vpAsT0z7",
        "outputId": "9f75ea2c-093b-49fb-8486-ba3b3c44e69d"
      },
      "execution_count": 53,
      "outputs": [
        {
          "output_type": "execute_result",
          "data": {
            "text/plain": [
              "array([[0.02332432, 0.97667568],\n",
              "       [0.00200333, 0.99799667],\n",
              "       [0.06007884, 0.93992116],\n",
              "       ...,\n",
              "       [0.02952629, 0.97047371],\n",
              "       [0.32812413, 0.67187587],\n",
              "       [0.44717928, 0.55282072]])"
            ]
          },
          "metadata": {},
          "execution_count": 53
        }
      ]
    },
    {
      "cell_type": "markdown",
      "source": [
        "**ROC Curve**"
      ],
      "metadata": {
        "id": "ntfG_kExT2dP"
      }
    },
    {
      "cell_type": "code",
      "source": [
        "# creating an ROC curve\n",
        "from sklearn.metrics import confusion_matrix as sk_confusion_matrix\n",
        "from sklearn.metrics import roc_curve, auc, classification_report\n",
        "import matplotlib.pyplot as plt"
      ],
      "metadata": {
        "id": "gspMwwdqT67m"
      },
      "execution_count": 66,
      "outputs": []
    },
    {
      "cell_type": "code",
      "source": [
        "# for train dataset\n",
        "false_positive_rate_tr, true_positive_rate_tr, thresholds_tr = roc_curve(y_train, y_pred_proba_tr[:,1])\n",
        "roc_auc_tr = auc(false_positive_rate_tr, true_positive_rate_tr)\n"
      ],
      "metadata": {
        "id": "_ONah8RtL3TZ"
      },
      "execution_count": 59,
      "outputs": []
    },
    {
      "cell_type": "code",
      "source": [
        "# for test dataset\n",
        "false_positive_rate, true_positive_rate, thresholds = roc_curve(y_test, y_pred_proba[:,1])\n",
        "roc_auc = auc(false_positive_rate, true_positive_rate)"
      ],
      "metadata": {
        "id": "S-TKGnKMMI3v"
      },
      "execution_count": 60,
      "outputs": []
    },
    {
      "cell_type": "code",
      "source": [
        "# area under the curve\n",
        "print (roc_auc)"
      ],
      "metadata": {
        "colab": {
          "base_uri": "https://localhost:8080/"
        },
        "id": "Zyi56Q6NT9Bx",
        "outputId": "1bf89595-aa40-4910-dc62-538862c5b0a9"
      },
      "execution_count": 61,
      "outputs": [
        {
          "output_type": "stream",
          "name": "stdout",
          "text": [
            "0.8963961828714182\n"
          ]
        }
      ]
    },
    {
      "cell_type": "code",
      "source": [
        "# matrix of thresholds, tpr, fpr\n",
        "pd.DataFrame({'Threshold': thresholds, \n",
        "              'TPR': true_positive_rate, \n",
        "              'FPR':false_positive_rate\n",
        "             })"
      ],
      "metadata": {
        "colab": {
          "base_uri": "https://localhost:8080/",
          "height": 424
        },
        "id": "NGJN39HrT-vU",
        "outputId": "15c1a2d5-89e8-4531-d417-471768e3f514"
      },
      "execution_count": 62,
      "outputs": [
        {
          "output_type": "execute_result",
          "data": {
            "text/plain": [
              "          Threshold       TPR       FPR\n",
              "0      2.000000e+00  0.000000  0.000000\n",
              "1      1.000000e+00  0.091685  0.005492\n",
              "2      1.000000e+00  0.093023  0.005492\n",
              "3      1.000000e+00  0.095700  0.005741\n",
              "4      1.000000e+00  0.095867  0.005741\n",
              "...             ...       ...       ...\n",
              "3308   2.308885e-34  0.999749  0.999001\n",
              "3309   1.866133e-34  0.999749  0.999501\n",
              "3310   6.389300e-38  0.999833  0.999501\n",
              "3311   5.001676e-92  0.999833  1.000000\n",
              "3312  4.878313e-125  1.000000  1.000000\n",
              "\n",
              "[3313 rows x 3 columns]"
            ],
            "text/html": [
              "\n",
              "  <div id=\"df-8ba7ddb1-ed5e-4105-9f00-ab589bb1cc54\">\n",
              "    <div class=\"colab-df-container\">\n",
              "      <div>\n",
              "<style scoped>\n",
              "    .dataframe tbody tr th:only-of-type {\n",
              "        vertical-align: middle;\n",
              "    }\n",
              "\n",
              "    .dataframe tbody tr th {\n",
              "        vertical-align: top;\n",
              "    }\n",
              "\n",
              "    .dataframe thead th {\n",
              "        text-align: right;\n",
              "    }\n",
              "</style>\n",
              "<table border=\"1\" class=\"dataframe\">\n",
              "  <thead>\n",
              "    <tr style=\"text-align: right;\">\n",
              "      <th></th>\n",
              "      <th>Threshold</th>\n",
              "      <th>TPR</th>\n",
              "      <th>FPR</th>\n",
              "    </tr>\n",
              "  </thead>\n",
              "  <tbody>\n",
              "    <tr>\n",
              "      <th>0</th>\n",
              "      <td>2.000000e+00</td>\n",
              "      <td>0.000000</td>\n",
              "      <td>0.000000</td>\n",
              "    </tr>\n",
              "    <tr>\n",
              "      <th>1</th>\n",
              "      <td>1.000000e+00</td>\n",
              "      <td>0.091685</td>\n",
              "      <td>0.005492</td>\n",
              "    </tr>\n",
              "    <tr>\n",
              "      <th>2</th>\n",
              "      <td>1.000000e+00</td>\n",
              "      <td>0.093023</td>\n",
              "      <td>0.005492</td>\n",
              "    </tr>\n",
              "    <tr>\n",
              "      <th>3</th>\n",
              "      <td>1.000000e+00</td>\n",
              "      <td>0.095700</td>\n",
              "      <td>0.005741</td>\n",
              "    </tr>\n",
              "    <tr>\n",
              "      <th>4</th>\n",
              "      <td>1.000000e+00</td>\n",
              "      <td>0.095867</td>\n",
              "      <td>0.005741</td>\n",
              "    </tr>\n",
              "    <tr>\n",
              "      <th>...</th>\n",
              "      <td>...</td>\n",
              "      <td>...</td>\n",
              "      <td>...</td>\n",
              "    </tr>\n",
              "    <tr>\n",
              "      <th>3308</th>\n",
              "      <td>2.308885e-34</td>\n",
              "      <td>0.999749</td>\n",
              "      <td>0.999001</td>\n",
              "    </tr>\n",
              "    <tr>\n",
              "      <th>3309</th>\n",
              "      <td>1.866133e-34</td>\n",
              "      <td>0.999749</td>\n",
              "      <td>0.999501</td>\n",
              "    </tr>\n",
              "    <tr>\n",
              "      <th>3310</th>\n",
              "      <td>6.389300e-38</td>\n",
              "      <td>0.999833</td>\n",
              "      <td>0.999501</td>\n",
              "    </tr>\n",
              "    <tr>\n",
              "      <th>3311</th>\n",
              "      <td>5.001676e-92</td>\n",
              "      <td>0.999833</td>\n",
              "      <td>1.000000</td>\n",
              "    </tr>\n",
              "    <tr>\n",
              "      <th>3312</th>\n",
              "      <td>4.878313e-125</td>\n",
              "      <td>1.000000</td>\n",
              "      <td>1.000000</td>\n",
              "    </tr>\n",
              "  </tbody>\n",
              "</table>\n",
              "<p>3313 rows × 3 columns</p>\n",
              "</div>\n",
              "      <button class=\"colab-df-convert\" onclick=\"convertToInteractive('df-8ba7ddb1-ed5e-4105-9f00-ab589bb1cc54')\"\n",
              "              title=\"Convert this dataframe to an interactive table.\"\n",
              "              style=\"display:none;\">\n",
              "        \n",
              "  <svg xmlns=\"http://www.w3.org/2000/svg\" height=\"24px\"viewBox=\"0 0 24 24\"\n",
              "       width=\"24px\">\n",
              "    <path d=\"M0 0h24v24H0V0z\" fill=\"none\"/>\n",
              "    <path d=\"M18.56 5.44l.94 2.06.94-2.06 2.06-.94-2.06-.94-.94-2.06-.94 2.06-2.06.94zm-11 1L8.5 8.5l.94-2.06 2.06-.94-2.06-.94L8.5 2.5l-.94 2.06-2.06.94zm10 10l.94 2.06.94-2.06 2.06-.94-2.06-.94-.94-2.06-.94 2.06-2.06.94z\"/><path d=\"M17.41 7.96l-1.37-1.37c-.4-.4-.92-.59-1.43-.59-.52 0-1.04.2-1.43.59L10.3 9.45l-7.72 7.72c-.78.78-.78 2.05 0 2.83L4 21.41c.39.39.9.59 1.41.59.51 0 1.02-.2 1.41-.59l7.78-7.78 2.81-2.81c.8-.78.8-2.07 0-2.86zM5.41 20L4 18.59l7.72-7.72 1.47 1.35L5.41 20z\"/>\n",
              "  </svg>\n",
              "      </button>\n",
              "      \n",
              "  <style>\n",
              "    .colab-df-container {\n",
              "      display:flex;\n",
              "      flex-wrap:wrap;\n",
              "      gap: 12px;\n",
              "    }\n",
              "\n",
              "    .colab-df-convert {\n",
              "      background-color: #E8F0FE;\n",
              "      border: none;\n",
              "      border-radius: 50%;\n",
              "      cursor: pointer;\n",
              "      display: none;\n",
              "      fill: #1967D2;\n",
              "      height: 32px;\n",
              "      padding: 0 0 0 0;\n",
              "      width: 32px;\n",
              "    }\n",
              "\n",
              "    .colab-df-convert:hover {\n",
              "      background-color: #E2EBFA;\n",
              "      box-shadow: 0px 1px 2px rgba(60, 64, 67, 0.3), 0px 1px 3px 1px rgba(60, 64, 67, 0.15);\n",
              "      fill: #174EA6;\n",
              "    }\n",
              "\n",
              "    [theme=dark] .colab-df-convert {\n",
              "      background-color: #3B4455;\n",
              "      fill: #D2E3FC;\n",
              "    }\n",
              "\n",
              "    [theme=dark] .colab-df-convert:hover {\n",
              "      background-color: #434B5C;\n",
              "      box-shadow: 0px 1px 3px 1px rgba(0, 0, 0, 0.15);\n",
              "      filter: drop-shadow(0px 1px 2px rgba(0, 0, 0, 0.3));\n",
              "      fill: #FFFFFF;\n",
              "    }\n",
              "  </style>\n",
              "\n",
              "      <script>\n",
              "        const buttonEl =\n",
              "          document.querySelector('#df-8ba7ddb1-ed5e-4105-9f00-ab589bb1cc54 button.colab-df-convert');\n",
              "        buttonEl.style.display =\n",
              "          google.colab.kernel.accessAllowed ? 'block' : 'none';\n",
              "\n",
              "        async function convertToInteractive(key) {\n",
              "          const element = document.querySelector('#df-8ba7ddb1-ed5e-4105-9f00-ab589bb1cc54');\n",
              "          const dataTable =\n",
              "            await google.colab.kernel.invokeFunction('convertToInteractive',\n",
              "                                                     [key], {});\n",
              "          if (!dataTable) return;\n",
              "\n",
              "          const docLinkHtml = 'Like what you see? Visit the ' +\n",
              "            '<a target=\"_blank\" href=https://colab.research.google.com/notebooks/data_table.ipynb>data table notebook</a>'\n",
              "            + ' to learn more about interactive tables.';\n",
              "          element.innerHTML = '';\n",
              "          dataTable['output_type'] = 'display_data';\n",
              "          await google.colab.output.renderOutput(dataTable, element);\n",
              "          const docLink = document.createElement('div');\n",
              "          docLink.innerHTML = docLinkHtml;\n",
              "          element.appendChild(docLink);\n",
              "        }\n",
              "      </script>\n",
              "    </div>\n",
              "  </div>\n",
              "  "
            ]
          },
          "metadata": {},
          "execution_count": 62
        }
      ]
    },
    {
      "cell_type": "code",
      "source": [
        "# plotting the ROC curve for train set\n",
        "%matplotlib inline  \n",
        "plt.ylabel('True Positive Rate')\n",
        "plt.xlabel('False Positive Rate')\n",
        "plt.title('ROC')\n",
        "plt.plot(false_positive_rate_tr, true_positive_rate_tr)"
      ],
      "metadata": {
        "colab": {
          "base_uri": "https://localhost:8080/",
          "height": 319
        },
        "id": "Xna_wKnaRS8E",
        "outputId": "1fc26a81-ee01-4dd7-8115-0551de27b7bd"
      },
      "execution_count": 89,
      "outputs": [
        {
          "output_type": "execute_result",
          "data": {
            "text/plain": [
              "[<matplotlib.lines.Line2D at 0x7fa26427c910>]"
            ]
          },
          "metadata": {},
          "execution_count": 89
        },
        {
          "output_type": "display_data",
          "data": {
            "text/plain": [
              "<Figure size 432x288 with 1 Axes>"
            ],
            "image/png": "[encoded data removed]"
          },
          "metadata": {
            "needs_background": "light"
          }
        }
      ]
    },
    {
      "cell_type": "code",
      "source": [
        "# plotting the ROC curve for test set\n",
        "%matplotlib inline  \n",
        "plt.ylabel('True Positive Rate')\n",
        "plt.xlabel('False Positive Rate')\n",
        "plt.title('ROC')\n",
        "plt.plot(false_positive_rate, true_positive_rate)\n"
      ],
      "metadata": {
        "colab": {
          "base_uri": "https://localhost:8080/",
          "height": 319
        },
        "id": "gorQygmKUAju",
        "outputId": "83773122-0c6b-4a20-a1f0-742bb63cf6eb"
      },
      "execution_count": 63,
      "outputs": [
        {
          "output_type": "execute_result",
          "data": {
            "text/plain": [
              "[<matplotlib.lines.Line2D at 0x7fa264b5b110>]"
            ]
          },
          "metadata": {},
          "execution_count": 63
        },
        {
          "output_type": "display_data",
          "data": {
            "text/plain": [
              "<Figure size 432x288 with 1 Axes>"
            ],
            "image/png": "[encoded data removed]"
          },
          "metadata": {
            "needs_background": "light"
          }
        }
      ]
    },
    {
      "cell_type": "markdown",
      "source": [
        "## We have checked sensitivity- specificity and precision-recall matrix for the model.\n",
        "\n",
        "### Models accuracy,sensitivity,specificity on train and test dataset are :\n",
        "- Train dataset :accuracy(87%),sensitivity (95%),specificity(64%)\n",
        "- Test Dataset : accuracy(86%),sensitivity (95%),specificity(59%)\n",
        "\n",
        "### Models precision,recall,F1 score on train and test dataset are :\n",
        "- Train dataset :precision(88%),recall (95%),F1 score(92%)\n",
        "- Test Dataset : precision(87%),recall (95%),F1 score(91%)\n",
        "- Area under curve : 90%\n",
        "\n",
        "Since the distribution of the dataset is imbalanced with more positives, many reviews which were negative were incorrectly classified as positives by the NB model and hence the low specificity. From a business point of view, this is not a very good model as you will miss out on the negatives of your competitors. Knowing the weaknesses of your competitors help you design better features for the product and devise your marketing strategies accordingly."
      ],
      "metadata": {
        "id": "kRno7wKEbBK4"
      }
    },
    {
      "cell_type": "code",
      "source": [
        "# Printing the classification report\n",
        "print(\"report for train set\")\n",
        "print(classification_report(y_train, y_pred_train))\n",
        "print(\"report for test set\")\n",
        "print(classification_report(y_test, y_pred_class))"
      ],
      "metadata": {
        "colab": {
          "base_uri": "https://localhost:8080/"
        },
        "id": "Ns7RuZofSEye",
        "outputId": "3e55bc10-ecfa-40c6-eced-21be8acfbf48"
      },
      "execution_count": 68,
      "outputs": [
        {
          "output_type": "stream",
          "name": "stdout",
          "text": [
            "report for train set\n",
            "              precision    recall  f1-score   support\n",
            "\n",
            "           0       0.82      0.64      0.72     12155\n",
            "           1       0.89      0.95      0.92     35723\n",
            "\n",
            "    accuracy                           0.87     47878\n",
            "   macro avg       0.85      0.80      0.82     47878\n",
            "weighted avg       0.87      0.87      0.87     47878\n",
            "\n",
            "report for test set\n",
            "              precision    recall  f1-score   support\n",
            "\n",
            "           0       0.80      0.58      0.68      4006\n",
            "           1       0.87      0.95      0.91     11954\n",
            "\n",
            "    accuracy                           0.86     15960\n",
            "   macro avg       0.84      0.77      0.79     15960\n",
            "weighted avg       0.85      0.86      0.85     15960\n",
            "\n"
          ]
        }
      ]
    },
    {
      "cell_type": "markdown",
      "source": [
        "Macro average is just the average of performance metrics of both the classes where as the weighted average assigns weights to the metrics of the classes according to their distribution in the original dataset. Macro and weighted averages are more useful in a multi-class calssification problems because in case of a binary classification, we already know what our positive and negative classes are, to evaluate the model performance.\n"
      ],
      "metadata": {
        "id": "Pvjd0uG9TJxP"
      }
    },
    {
      "cell_type": "markdown",
      "source": [
        "## Model 2: With Oversampling \n",
        "A skewed data is the one where there are more training examples for one class than another. This was evident from the specificity which was calculated in the model above. This can cause the decision boundary weights to be biased. This causes\n",
        "the classifier to unwittingly prefer one class over the\n",
        "other.\n",
        "\n",
        "We have shown the reason for the bias in the previous model and propose to alleviate the problem by using a method called **Random oversampling**. Random oversampling involves randomly selecting samples from the minority class (in our case 0s), with replacement, and adding them to the training dataset such that there is an equal distribution of the classes. \n",
        "\n"
      ],
      "metadata": {
        "id": "ZF7MnITASBNc"
      }
    },
    {
      "cell_type": "code",
      "source": [
        "# splitting the data into test and train\n",
        "from sklearn.model_selection  import train_test_split\n",
        "\n",
        "X_train, X_test, y_train, y_test = train_test_split(X, y, random_state=1)"
      ],
      "metadata": {
        "id": "izzDXhdMTupx"
      },
      "execution_count": 69,
      "outputs": []
    },
    {
      "cell_type": "code",
      "source": [
        "pd.Series(y_train).value_counts()"
      ],
      "metadata": {
        "colab": {
          "base_uri": "https://localhost:8080/"
        },
        "id": "F0PVYnzVUNNM",
        "outputId": "3e1c05dc-70be-4c04-abdf-b1e88a11fb5f"
      },
      "execution_count": 70,
      "outputs": [
        {
          "output_type": "execute_result",
          "data": {
            "text/plain": [
              "1    35723\n",
              "0    12155\n",
              "Name: review_sentiment, dtype: int64"
            ]
          },
          "metadata": {},
          "execution_count": 70
        }
      ]
    },
    {
      "cell_type": "markdown",
      "source": [
        "Why oversampling is done only on training set? <br>If both the train and test data are oversampled, we may end up having same points in both the sets. Hence the model performance obtained cannot be reliable as the test set is not independent of the train set.\n"
      ],
      "metadata": {
        "id": "dcUV8gvMUcA3"
      }
    },
    {
      "cell_type": "code",
      "source": [
        "#from imblearn import over_sampling\n",
        "from imblearn import over_sampling\n",
        "ros = over_sampling.RandomOverSampler(random_state=0)"
      ],
      "metadata": {
        "id": "F_PvVwlqURGd"
      },
      "execution_count": 71,
      "outputs": []
    },
    {
      "cell_type": "code",
      "source": [
        "X_train, y_train = ros.fit_resample(pd.DataFrame(X_train), pd.Series(y_train))"
      ],
      "metadata": {
        "id": "XvBitGrOUddT"
      },
      "execution_count": 72,
      "outputs": []
    },
    {
      "cell_type": "code",
      "source": [
        "pd.Series(y_train).value_counts()"
      ],
      "metadata": {
        "colab": {
          "base_uri": "https://localhost:8080/"
        },
        "id": "bB9Ol4sDUsZ4",
        "outputId": "5d8a58f4-c51f-49b5-b731-1db065319be0"
      },
      "execution_count": 73,
      "outputs": [
        {
          "output_type": "execute_result",
          "data": {
            "text/plain": [
              "1    35723\n",
              "0    35723\n",
              "Name: review_sentiment, dtype: int64"
            ]
          },
          "metadata": {},
          "execution_count": 73
        }
      ]
    },
    {
      "cell_type": "code",
      "source": [
        "#Distribution of the data in terms of proportions can now be seen as 50 -50\n",
        "print(\"Percent of 1s: \", 100*pd.Series(y_train).value_counts()[1]/pd.Series(y_train).value_counts().sum(), \"%\")\n",
        "print(\"Percent of 0s: \", 100*pd.Series(y_train).value_counts()[0]/pd.Series(y_train).value_counts().sum(), \"%\")"
      ],
      "metadata": {
        "colab": {
          "base_uri": "https://localhost:8080/"
        },
        "id": "1OGGNi6yUucj",
        "outputId": "2ea3758e-6c00-4cc8-916a-a8980703158b"
      },
      "execution_count": 74,
      "outputs": [
        {
          "output_type": "stream",
          "name": "stdout",
          "text": [
            "Percent of 1s:  50.0 %\n",
            "Percent of 0s:  50.0 %\n"
          ]
        }
      ]
    },
    {
      "cell_type": "code",
      "source": [
        "# vectorizing the sentences\n",
        "from sklearn.feature_extraction.text import CountVectorizer\n",
        "vect = CountVectorizer()"
      ],
      "metadata": {
        "id": "Na48UccTUx46"
      },
      "execution_count": 75,
      "outputs": []
    },
    {
      "cell_type": "code",
      "source": [
        "# The CountVectorizer object, vect takes in a list of string as an argument. to get a list of string from a 2D array,\n",
        "# we convert the 2D array to a dataframe and then convert it to a list.\n",
        "\n",
        "X_train = pd.DataFrame(X_train).iloc[:,0].tolist()\n",
        "\n",
        "#Printing a few samples from the list\n",
        "X_train[:6]"
      ],
      "metadata": {
        "colab": {
          "base_uri": "https://localhost:8080/"
        },
        "id": "eJZyHpnFU0Vu",
        "outputId": "6c461a22-5731-4b0a-e87d-b664b400667f"
      },
      "execution_count": 76,
      "outputs": [
        {
          "output_type": "execute_result",
          "data": {
            "text/plain": [
              "['buy phone mom ago work great like complaints get sale happy shes happy',\n",
              " 'good',\n",
              " 'happy phone expect meet delivery time responsible seller thank please',\n",
              " 'purchase phone upgrade aka optimus true lte absolutely love phone fast brilliant screen gen pro specs rival newly release super phone motorola apple etc compare favourably note note compare price definitely bargain offer great battery life excellent phone call audio plus bell whistle',\n",
              " 'gift granddaughter love',\n",
              " 'recomend buyer quick responsable buy expect buy recomend']"
            ]
          },
          "metadata": {},
          "execution_count": 76
        }
      ]
    },
    {
      "cell_type": "code",
      "source": [
        "#Fitting X_train into a vectorizer\n",
        "vect.fit(X_train)"
      ],
      "metadata": {
        "colab": {
          "base_uri": "https://localhost:8080/"
        },
        "id": "hbPSGffcU5Bp",
        "outputId": "91f63df6-b65d-4801-c132-a2f4c0453345"
      },
      "execution_count": 77,
      "outputs": [
        {
          "output_type": "execute_result",
          "data": {
            "text/plain": [
              "CountVectorizer()"
            ]
          },
          "metadata": {},
          "execution_count": 77
        }
      ]
    },
    {
      "cell_type": "code",
      "source": [
        "# Transforming the train and test datasets\n",
        "X_train_transformed = vect.transform(X_train)\n",
        "X_test_transformed = vect.transform(X_test)"
      ],
      "metadata": {
        "id": "BjyFEoZoU8L2"
      },
      "execution_count": 78,
      "outputs": []
    },
    {
      "cell_type": "code",
      "source": [
        ""
      ],
      "metadata": {
        "id": "PEW4WD9vVAxW"
      },
      "execution_count": null,
      "outputs": []
    },
    {
      "cell_type": "markdown",
      "source": [
        "##**Naive Bayes model with random oversampling**"
      ],
      "metadata": {
        "id": "MZs2igWBVCZo"
      }
    },
    {
      "cell_type": "code",
      "source": [
        "from sklearn.model_selection import train_test_split\n",
        "from sklearn.naive_bayes import MultinomialNB"
      ],
      "metadata": {
        "id": "smUpWO8PVOiy"
      },
      "execution_count": 79,
      "outputs": []
    },
    {
      "cell_type": "code",
      "source": [
        "# training the NB model and making predictions\n",
        "from sklearn.naive_bayes import MultinomialNB\n",
        "mnb = MultinomialNB()\n",
        "\n",
        "# fit\n",
        "mnb.fit(X_train_transformed,y_train)\n",
        "\n",
        "# Training dataset\n",
        "y_pred_train = mnb.predict(X_train_transformed)\n",
        "y_pred_proba_tr = mnb.predict_proba(X_train_transformed)\n",
        "\n",
        "# Testing dataset\n",
        "y_pred = mnb.predict(X_test_transformed)\n",
        "y_pred_proba = mnb.predict_proba(X_test_transformed)"
      ],
      "metadata": {
        "id": "xk1kGFarVQzy"
      },
      "execution_count": 80,
      "outputs": []
    },
    {
      "cell_type": "code",
      "source": [
        "# note that alpha=1 is used by default for smoothing\n",
        "mnb"
      ],
      "metadata": {
        "colab": {
          "base_uri": "https://localhost:8080/"
        },
        "id": "aLwp121KVT8V",
        "outputId": "2605cece-dd93-4017-cba4-8c0d1ce514f8"
      },
      "execution_count": 81,
      "outputs": [
        {
          "output_type": "execute_result",
          "data": {
            "text/plain": [
              "MultinomialNB()"
            ]
          },
          "metadata": {},
          "execution_count": 81
        }
      ]
    },
    {
      "cell_type": "markdown",
      "source": [
        "##Model evauation on Test dataset"
      ],
      "metadata": {
        "id": "QYYVc_dwVegr"
      }
    },
    {
      "cell_type": "code",
      "source": [
        "from sklearn import metrics\n",
        "from sklearn.metrics import classification_report, confusion_matrix"
      ],
      "metadata": {
        "id": "v9jOd4CjVXzT"
      },
      "execution_count": 82,
      "outputs": []
    },
    {
      "cell_type": "code",
      "source": [
        "# printing the overall accuracy\n",
        "from sklearn import metrics\n",
        "print(\"Accuracy for test set is: \", metrics.accuracy_score(y_test, y_pred))\n",
        "print(\"Accuracy for train set is: \", metrics.accuracy_score(y_train, y_pred_train))"
      ],
      "metadata": {
        "colab": {
          "base_uri": "https://localhost:8080/"
        },
        "id": "QZ5UbLT6VdSL",
        "outputId": "8404dc75-0999-4d3f-8d49-a1857d08b26e"
      },
      "execution_count": 83,
      "outputs": [
        {
          "output_type": "stream",
          "name": "stdout",
          "text": [
            "Accuracy for test set is:  0.856077694235589\n",
            "Accuracy for train set is:  0.874730565741959\n"
          ]
        }
      ]
    },
    {
      "cell_type": "code",
      "source": [
        "#Confusion matrix for the train data\n",
        "import seaborn as sns\n",
        "import matplotlib.pyplot as plt\n",
        "\n",
        "print(\"Confusion matrix for train and test set\")\n",
        "\n",
        "plt.figure(figsize=(12,4))\n",
        "\n",
        "plt.subplot(1,2,1)\n",
        "# confusion matrix for train set\n",
        "cm_train = metrics.confusion_matrix(y_train, y_pred_train)\n",
        "sns.heatmap(cm_train/np.sum(cm_train), annot=True , fmt = ' .2%')\n",
        "# help(metrics.confusion_matrix)\n",
        "\n",
        "plt.subplot(1,2,2)\n",
        "# confusion matrix for the test data\n",
        "cm_test = metrics.confusion_matrix(y_test, y_pred)\n",
        "sns.heatmap(cm_test/np.sum(cm_test), annot=True , fmt = ' .2%')\n",
        "\n",
        "plt.show()\n"
      ],
      "metadata": {
        "colab": {
          "base_uri": "https://localhost:8080/",
          "height": 286
        },
        "id": "XID1SH1dVlk_",
        "outputId": "fed7b677-6193-47fd-e0dd-06a4358e4334"
      },
      "execution_count": 84,
      "outputs": [
        {
          "output_type": "stream",
          "name": "stdout",
          "text": [
            "Confusion matrix for train and test set\n"
          ]
        },
        {
          "output_type": "display_data",
          "data": {
            "text/plain": [
              "<Figure size 864x288 with 4 Axes>"
            ],
            "image/png": "[encoded data removed]"
          },
          "metadata": {
            "needs_background": "light"
          }
        }
      ]
    },
    {
      "cell_type": "code",
      "source": [
        "# creating an ROC curve\n",
        "# from sklearn.metrics import confusion_matrix as sk_confusion_matrix\n",
        "from sklearn.metrics import roc_curve, auc\n",
        "import matplotlib.pyplot as plt\n",
        "\n",
        "#for test set\n",
        "false_positive_rate, true_positive_rate, thresholds = roc_curve(y_test, y_pred_proba[:,1])\n",
        "roc_auc = auc(false_positive_rate, true_positive_rate)\n",
        "#for train set\n",
        "false_positive_rate_tr, true_positive_rate_tr, thresholds_tr = roc_curve(y_train, y_pred_proba_tr[:,1])\n",
        "roc_auc_tr = auc(false_positive_rate, true_positive_rate)"
      ],
      "metadata": {
        "id": "2VJcVCDuVxud"
      },
      "execution_count": 85,
      "outputs": []
    },
    {
      "cell_type": "code",
      "source": [
        "# area under the curve\n",
        "print (\"for train set: \",roc_auc_tr)\n",
        "print (\"for test set: \",roc_auc)"
      ],
      "metadata": {
        "colab": {
          "base_uri": "https://localhost:8080/"
        },
        "id": "x9yu_oxMV2NY",
        "outputId": "9446496f-9713-4e5b-8848-7d4d72025bdd"
      },
      "execution_count": 86,
      "outputs": [
        {
          "output_type": "stream",
          "name": "stdout",
          "text": [
            "for train set:  0.8967152729998193\n",
            "for test set:  0.8967152729998193\n"
          ]
        }
      ]
    },
    {
      "cell_type": "code",
      "source": [
        "# plotting the ROC curve for test set\n",
        "%matplotlib inline  \n",
        "plt.ylabel('True Positive Rate')\n",
        "plt.xlabel('False Positive Rate')\n",
        "plt.title('ROC')\n",
        "plt.plot(false_positive_rate, true_positive_rate)"
      ],
      "metadata": {
        "colab": {
          "base_uri": "https://localhost:8080/",
          "height": 319
        },
        "id": "lpQGU65CV4sa",
        "outputId": "f3a183cf-c6b2-4b95-87d0-b1bccb06080c"
      },
      "execution_count": 87,
      "outputs": [
        {
          "output_type": "execute_result",
          "data": {
            "text/plain": [
              "[<matplotlib.lines.Line2D at 0x7fa2642c2f10>]"
            ]
          },
          "metadata": {},
          "execution_count": 87
        },
        {
          "output_type": "display_data",
          "data": {
            "text/plain": [
              "<Figure size 432x288 with 1 Axes>"
            ],
            "image/png": "[encoded data removed]"
          },
          "metadata": {
            "needs_background": "light"
          }
        }
      ]
    },
    {
      "cell_type": "code",
      "source": [
        "# plotting the ROC curve for train set\n",
        "%matplotlib inline  \n",
        "plt.ylabel('True Positive Rate')\n",
        "plt.xlabel('False Positive Rate')\n",
        "plt.title('ROC')\n",
        "plt.plot(false_positive_rate_tr, true_positive_rate_tr)"
      ],
      "metadata": {
        "colab": {
          "base_uri": "https://localhost:8080/",
          "height": 319
        },
        "id": "qk_jXfW3V9n-",
        "outputId": "14e4548e-981a-4f44-caba-2b29b453124d"
      },
      "execution_count": 90,
      "outputs": [
        {
          "output_type": "execute_result",
          "data": {
            "text/plain": [
              "[<matplotlib.lines.Line2D at 0x7fa2641fc650>]"
            ]
          },
          "metadata": {},
          "execution_count": 90
        },
        {
          "output_type": "display_data",
          "data": {
            "text/plain": [
              "<Figure size 432x288 with 1 Axes>"
            ],
            "image/png": "[encoded data removed]"
          },
          "metadata": {
            "needs_background": "light"
          }
        }
      ]
    },
    {
      "cell_type": "code",
      "source": [
        "# storing the values in variables\n",
        "#for test set\n",
        "TN = cm_test[0, 0]\n",
        "FP = cm_test[0, 1]\n",
        "FN = cm_test[1, 0]\n",
        "TP = cm_test[1, 1]\n",
        "#For train set\n",
        "TN_tr = cm_train[0, 0]\n",
        "FP_tr = cm_train[0, 1]\n",
        "FN_tr = cm_train[1, 0]\n",
        "TP_tr = cm_train[1, 1]"
      ],
      "metadata": {
        "id": "CRs2Bh0ZWBXo"
      },
      "execution_count": 91,
      "outputs": []
    },
    {
      "cell_type": "code",
      "source": [
        "#specificity for test and train set.\n",
        "specificity_tr = TN_tr / float(TN_tr + FP_tr)\n",
        "print(\"specificity for train set: \",specificity_tr)\n",
        "specificity = TN / float(TN + FP)\n",
        "print(\"specificity for test set: \",specificity)"
      ],
      "metadata": {
        "colab": {
          "base_uri": "https://localhost:8080/"
        },
        "id": "r4u8vVviWUxQ",
        "outputId": "688a4bef-3d10-4967-f497-4dcf211538e8"
      },
      "execution_count": 92,
      "outputs": [
        {
          "output_type": "stream",
          "name": "stdout",
          "text": [
            "specificity for train set:  0.8702796517649694\n",
            "specificity for test set:  0.8167748377433849\n"
          ]
        }
      ]
    },
    {
      "cell_type": "code",
      "source": [
        "#Calculating the Sensitivity for train and test set\n",
        "sensitivity_tr = TP_tr / float(FN_tr + TP_tr)\n",
        "print(\"sensitivity for train set: \",sensitivity_tr)\n",
        "sensitivity = TP / float(FN + TP)\n",
        "print(\"sensitivity for test set: \",sensitivity)"
      ],
      "metadata": {
        "colab": {
          "base_uri": "https://localhost:8080/"
        },
        "id": "r7SJVSFrWXGk",
        "outputId": "403036ab-a594-4609-fb95-e44f592597d2"
      },
      "execution_count": 94,
      "outputs": [
        {
          "output_type": "stream",
          "name": "stdout",
          "text": [
            "sensitivity for train set:  0.8791814797189486\n",
            "sensitivity for test set:  0.8692487870168981\n"
          ]
        }
      ]
    },
    {
      "cell_type": "markdown",
      "source": [
        "### Precision"
      ],
      "metadata": {
        "id": "O8a8IRMXZP63"
      }
    },
    {
      "cell_type": "markdown",
      "source": [
        "## We have checked sensitivity- specificity and precision-recall matrix for the model.\n",
        "### Models accuracy,sensitivity,specificity on train and test dataset are :\n",
        "Train dataset :accuracy(88%),sensitivity (88%),specificity(87%)\n",
        "\n",
        "Test Dataset : accuracy(89%),sensitivity (87%),specificity(82%)\n",
        "\n",
        "Area under curve : 90% for both train and test dataset.\n",
        "\n",
        "**The test sensitivity and specificity of the model without oversampling were 0.95 and 0.59 respectively. The application of oversampling model has resulted in an equal distribution of the binary labels. This has resulted in a jump in specificity by 0.23 with a slight decrease in the sensitivity by 0.08. From a business point of view, we can say that this is a better model as compared to the one that was built without oversampling.**"
      ],
      "metadata": {
        "id": "fmcftFfJW5Qd"
      }
    },
    {
      "cell_type": "code",
      "source": [
        "# Printing the classification report\n",
        "print(\"report for train set\")\n",
        "print(classification_report(y_train, y_pred_train))\n",
        "print(\"report for test set\")\n",
        "print(classification_report(y_test, y_pred))"
      ],
      "metadata": {
        "colab": {
          "base_uri": "https://localhost:8080/"
        },
        "id": "8C2ap6ifWaCc",
        "outputId": "5a088c79-b471-4aef-9a92-6ee8786cde59"
      },
      "execution_count": 95,
      "outputs": [
        {
          "output_type": "stream",
          "name": "stdout",
          "text": [
            "report for train set\n",
            "              precision    recall  f1-score   support\n",
            "\n",
            "           0       0.88      0.87      0.87     35723\n",
            "           1       0.87      0.88      0.88     35723\n",
            "\n",
            "    accuracy                           0.87     71446\n",
            "   macro avg       0.87      0.87      0.87     71446\n",
            "weighted avg       0.87      0.87      0.87     71446\n",
            "\n",
            "report for test set\n",
            "              precision    recall  f1-score   support\n",
            "\n",
            "           0       0.68      0.82      0.74      4006\n",
            "           1       0.93      0.87      0.90     11954\n",
            "\n",
            "    accuracy                           0.86     15960\n",
            "   macro avg       0.81      0.84      0.82     15960\n",
            "weighted avg       0.87      0.86      0.86     15960\n",
            "\n"
          ]
        }
      ]
    },
    {
      "cell_type": "code",
      "source": [
        ""
      ],
      "metadata": {
        "id": "I8AscIZJW7od"
      },
      "execution_count": null,
      "outputs": []
    }
  ]
}